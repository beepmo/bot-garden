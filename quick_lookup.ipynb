{
 "cells": [
  {
   "cell_type": "code",
   "execution_count": 3,
   "metadata": {
    "collapsed": true
   },
   "outputs": [],
   "source": [
    "import numpy as np"
   ]
  },
  {
   "cell_type": "code",
   "execution_count": 18,
   "outputs": [
    {
     "data": {
      "text/plain": "     Bed  Species Count  Item Count  Label Stats  Geo-record Stats  \\\n0  1e+01              5           7           42                 0   \n1  1e+02              2           3          100                 0   \n2   1B13              1           1          100                 0   \n3   1B16              9          15           66                20   \n4   1B18             24          39           84                10   \n\n   Labelled, not geo-recorded  Geo-recorded, not labelled  \\\n0                           3                           0   \n1                           3                           0   \n2                           1                           0   \n3                           7                           0   \n4                          29                           0   \n\n   Labelled and Geo-recorded  Not labelled nor geo-recorded  \\\n0                          0                              4   \n1                          0                              0   \n2                          0                              0   \n3                          3                              5   \n4                          4                              6   \n\n   Labelled, Geo-recorded, Post-Fuzzy  \n0                                   0  \n1                                   0  \n2                                   0  \n3                                   3  \n4                                   4  ",
      "text/html": "<div>\n<style scoped>\n    .dataframe tbody tr th:only-of-type {\n        vertical-align: middle;\n    }\n\n    .dataframe tbody tr th {\n        vertical-align: top;\n    }\n\n    .dataframe thead th {\n        text-align: right;\n    }\n</style>\n<table border=\"1\" class=\"dataframe\">\n  <thead>\n    <tr style=\"text-align: right;\">\n      <th></th>\n      <th>Bed</th>\n      <th>Species Count</th>\n      <th>Item Count</th>\n      <th>Label Stats</th>\n      <th>Geo-record Stats</th>\n      <th>Labelled, not geo-recorded</th>\n      <th>Geo-recorded, not labelled</th>\n      <th>Labelled and Geo-recorded</th>\n      <th>Not labelled nor geo-recorded</th>\n      <th>Labelled, Geo-recorded, Post-Fuzzy</th>\n    </tr>\n  </thead>\n  <tbody>\n    <tr>\n      <th>0</th>\n      <td>1e+01</td>\n      <td>5</td>\n      <td>7</td>\n      <td>42</td>\n      <td>0</td>\n      <td>3</td>\n      <td>0</td>\n      <td>0</td>\n      <td>4</td>\n      <td>0</td>\n    </tr>\n    <tr>\n      <th>1</th>\n      <td>1e+02</td>\n      <td>2</td>\n      <td>3</td>\n      <td>100</td>\n      <td>0</td>\n      <td>3</td>\n      <td>0</td>\n      <td>0</td>\n      <td>0</td>\n      <td>0</td>\n    </tr>\n    <tr>\n      <th>2</th>\n      <td>1B13</td>\n      <td>1</td>\n      <td>1</td>\n      <td>100</td>\n      <td>0</td>\n      <td>1</td>\n      <td>0</td>\n      <td>0</td>\n      <td>0</td>\n      <td>0</td>\n    </tr>\n    <tr>\n      <th>3</th>\n      <td>1B16</td>\n      <td>9</td>\n      <td>15</td>\n      <td>66</td>\n      <td>20</td>\n      <td>7</td>\n      <td>0</td>\n      <td>3</td>\n      <td>5</td>\n      <td>3</td>\n    </tr>\n    <tr>\n      <th>4</th>\n      <td>1B18</td>\n      <td>24</td>\n      <td>39</td>\n      <td>84</td>\n      <td>10</td>\n      <td>29</td>\n      <td>0</td>\n      <td>4</td>\n      <td>6</td>\n      <td>4</td>\n    </tr>\n  </tbody>\n</table>\n</div>"
     },
     "execution_count": 18,
     "metadata": {},
     "output_type": "execute_result"
    }
   ],
   "source": [
    "from parse_data import concise_df\n",
    "\n",
    "df = concise_df('Any')\n",
    "df.head()"
   ],
   "metadata": {
    "collapsed": false
   }
  },
  {
   "cell_type": "markdown",
   "source": [
    "---\n",
    "# Beds with number names"
   ],
   "metadata": {
    "collapsed": false
   }
  },
  {
   "cell_type": "code",
   "execution_count": 14,
   "outputs": [
    {
     "name": "stdout",
     "output_type": "stream",
     "text": [
      "Bed name is 1C of type <class 'str'>.\n",
      "Bed name is 1D of type <class 'str'>.\n",
      "Bed name is 1G of type <class 'str'>.\n",
      "Bed name is 1J of type <class 'str'>.\n",
      "Bed name is 1M of type <class 'str'>.\n",
      "Bed name is 1R of type <class 'str'>.\n",
      "Bed name is 2A of type <class 'str'>.\n",
      "Bed name is 3A of type <class 'str'>.\n",
      "Bed name is F of type <class 'str'>.\n"
     ]
    },
    {
     "data": {
      "text/plain": "    Bed  Species Count  Item Count  Label Stats  Geo-record Stats  \\\n22   1C              1           1            0                 0   \n27   1D             22          22            0                 4   \n43   1G              1           1            0                 0   \n48   1J             51          97           62                 5   \n66   1M              1           1            0                 0   \n78   1R              6           6           33                 0   \n83   2A              7           7          100                 0   \n97   3A              1           2          100                 0   \n251   F             12          13           53                 0   \n\n     Labelled, not geo-recorded  Geo-recorded, not labelled  \\\n22                            0                           0   \n27                            0                           1   \n43                            0                           0   \n48                           58                           2   \n66                            0                           0   \n78                            2                           0   \n83                            7                           0   \n97                            2                           0   \n251                           7                           0   \n\n     Labelled and Geo-recorded  Not labelled nor geo-recorded  \\\n22                           0                              1   \n27                           0                             21   \n43                           0                              1   \n48                           3                             34   \n66                           0                              1   \n78                           0                              4   \n83                           0                              0   \n97                           0                              0   \n251                          0                              6   \n\n     Labelled, Geo-recorded, Post-Fuzzy  \n22                                    0  \n27                                    0  \n43                                    0  \n48                                    2  \n66                                    0  \n78                                    0  \n83                                    0  \n97                                    0  \n251                                   0  ",
      "text/html": "<div>\n<style scoped>\n    .dataframe tbody tr th:only-of-type {\n        vertical-align: middle;\n    }\n\n    .dataframe tbody tr th {\n        vertical-align: top;\n    }\n\n    .dataframe thead th {\n        text-align: right;\n    }\n</style>\n<table border=\"1\" class=\"dataframe\">\n  <thead>\n    <tr style=\"text-align: right;\">\n      <th></th>\n      <th>Bed</th>\n      <th>Species Count</th>\n      <th>Item Count</th>\n      <th>Label Stats</th>\n      <th>Geo-record Stats</th>\n      <th>Labelled, not geo-recorded</th>\n      <th>Geo-recorded, not labelled</th>\n      <th>Labelled and Geo-recorded</th>\n      <th>Not labelled nor geo-recorded</th>\n      <th>Labelled, Geo-recorded, Post-Fuzzy</th>\n    </tr>\n  </thead>\n  <tbody>\n    <tr>\n      <th>22</th>\n      <td>1C</td>\n      <td>1</td>\n      <td>1</td>\n      <td>0</td>\n      <td>0</td>\n      <td>0</td>\n      <td>0</td>\n      <td>0</td>\n      <td>1</td>\n      <td>0</td>\n    </tr>\n    <tr>\n      <th>27</th>\n      <td>1D</td>\n      <td>22</td>\n      <td>22</td>\n      <td>0</td>\n      <td>4</td>\n      <td>0</td>\n      <td>1</td>\n      <td>0</td>\n      <td>21</td>\n      <td>0</td>\n    </tr>\n    <tr>\n      <th>43</th>\n      <td>1G</td>\n      <td>1</td>\n      <td>1</td>\n      <td>0</td>\n      <td>0</td>\n      <td>0</td>\n      <td>0</td>\n      <td>0</td>\n      <td>1</td>\n      <td>0</td>\n    </tr>\n    <tr>\n      <th>48</th>\n      <td>1J</td>\n      <td>51</td>\n      <td>97</td>\n      <td>62</td>\n      <td>5</td>\n      <td>58</td>\n      <td>2</td>\n      <td>3</td>\n      <td>34</td>\n      <td>2</td>\n    </tr>\n    <tr>\n      <th>66</th>\n      <td>1M</td>\n      <td>1</td>\n      <td>1</td>\n      <td>0</td>\n      <td>0</td>\n      <td>0</td>\n      <td>0</td>\n      <td>0</td>\n      <td>1</td>\n      <td>0</td>\n    </tr>\n    <tr>\n      <th>78</th>\n      <td>1R</td>\n      <td>6</td>\n      <td>6</td>\n      <td>33</td>\n      <td>0</td>\n      <td>2</td>\n      <td>0</td>\n      <td>0</td>\n      <td>4</td>\n      <td>0</td>\n    </tr>\n    <tr>\n      <th>83</th>\n      <td>2A</td>\n      <td>7</td>\n      <td>7</td>\n      <td>100</td>\n      <td>0</td>\n      <td>7</td>\n      <td>0</td>\n      <td>0</td>\n      <td>0</td>\n      <td>0</td>\n    </tr>\n    <tr>\n      <th>97</th>\n      <td>3A</td>\n      <td>1</td>\n      <td>2</td>\n      <td>100</td>\n      <td>0</td>\n      <td>2</td>\n      <td>0</td>\n      <td>0</td>\n      <td>0</td>\n      <td>0</td>\n    </tr>\n    <tr>\n      <th>251</th>\n      <td>F</td>\n      <td>12</td>\n      <td>13</td>\n      <td>53</td>\n      <td>0</td>\n      <td>7</td>\n      <td>0</td>\n      <td>0</td>\n      <td>6</td>\n      <td>0</td>\n    </tr>\n  </tbody>\n</table>\n</div>"
     },
     "execution_count": 14,
     "metadata": {},
     "output_type": "execute_result"
    }
   ],
   "source": [
    "# number of rows in df\n",
    "length = len(df.index)\n",
    "\n",
    "# create uninitialized np array of booleans with length equal to number of df rows\n",
    "mask = np.empty(shape=length,dtype=bool)\n",
    "\n",
    "# turn into mask\n",
    "for i in range(length):\n",
    "    bed = df.iloc[i,0]\n",
    "    if len(bed) < 3:\n",
    "        print(f'Bed name is {bed} of type {type(bed)}.')\n",
    "        np.put(mask,i,True)\n",
    "    else:\n",
    "        np.put(mask,i,False)\n",
    "\n",
    "df.loc[mask]"
   ],
   "metadata": {
    "collapsed": false
   }
  },
  {
   "cell_type": "markdown",
   "source": [
    "---\n",
    "# Nursery, Herbarium, Nitobe, Garden Components"
   ],
   "metadata": {
    "collapsed": false
   }
  },
  {
   "cell_type": "code",
   "execution_count": 15,
   "outputs": [
    {
     "data": {
      "text/plain": "     Bed  Species Count  Item Count  Label Stats  Geo-record Stats  \\\n22    1C              1           1            0                 0   \n27    1D             22          22            0                 4   \n43    1G              1           1            0                 0   \n48    1J             51          97           62                 5   \n66    1M              1           1            0                 0   \n78    1R              6           6           33                 0   \n83    2A              7           7          100                 0   \n97    3A              1           2          100                 0   \n251    F             12          13           53                 0   \n263  LAM            169         231           99                 3   \n279  LFE             34          36          100                11   \n\n     Labelled, not geo-recorded  Geo-recorded, not labelled  \\\n22                            0                           0   \n27                            0                           1   \n43                            0                           0   \n48                           58                           2   \n66                            0                           0   \n78                            2                           0   \n83                            7                           0   \n97                            2                           0   \n251                           7                           0   \n263                         223                           0   \n279                          32                           0   \n\n     Labelled and Geo-recorded  Not labelled nor geo-recorded  \\\n22                           0                              1   \n27                           0                             21   \n43                           0                              1   \n48                           3                             34   \n66                           0                              1   \n78                           0                              4   \n83                           0                              0   \n97                           0                              0   \n251                          0                              6   \n263                          7                              1   \n279                          4                              0   \n\n     Labelled, Geo-recorded, Post-Fuzzy  \n22                                    0  \n27                                    0  \n43                                    0  \n48                                    2  \n66                                    0  \n78                                    0  \n83                                    0  \n97                                    0  \n251                                   0  \n263                                   7  \n279                                   4  ",
      "text/html": "<div>\n<style scoped>\n    .dataframe tbody tr th:only-of-type {\n        vertical-align: middle;\n    }\n\n    .dataframe tbody tr th {\n        vertical-align: top;\n    }\n\n    .dataframe thead th {\n        text-align: right;\n    }\n</style>\n<table border=\"1\" class=\"dataframe\">\n  <thead>\n    <tr style=\"text-align: right;\">\n      <th></th>\n      <th>Bed</th>\n      <th>Species Count</th>\n      <th>Item Count</th>\n      <th>Label Stats</th>\n      <th>Geo-record Stats</th>\n      <th>Labelled, not geo-recorded</th>\n      <th>Geo-recorded, not labelled</th>\n      <th>Labelled and Geo-recorded</th>\n      <th>Not labelled nor geo-recorded</th>\n      <th>Labelled, Geo-recorded, Post-Fuzzy</th>\n    </tr>\n  </thead>\n  <tbody>\n    <tr>\n      <th>22</th>\n      <td>1C</td>\n      <td>1</td>\n      <td>1</td>\n      <td>0</td>\n      <td>0</td>\n      <td>0</td>\n      <td>0</td>\n      <td>0</td>\n      <td>1</td>\n      <td>0</td>\n    </tr>\n    <tr>\n      <th>27</th>\n      <td>1D</td>\n      <td>22</td>\n      <td>22</td>\n      <td>0</td>\n      <td>4</td>\n      <td>0</td>\n      <td>1</td>\n      <td>0</td>\n      <td>21</td>\n      <td>0</td>\n    </tr>\n    <tr>\n      <th>43</th>\n      <td>1G</td>\n      <td>1</td>\n      <td>1</td>\n      <td>0</td>\n      <td>0</td>\n      <td>0</td>\n      <td>0</td>\n      <td>0</td>\n      <td>1</td>\n      <td>0</td>\n    </tr>\n    <tr>\n      <th>48</th>\n      <td>1J</td>\n      <td>51</td>\n      <td>97</td>\n      <td>62</td>\n      <td>5</td>\n      <td>58</td>\n      <td>2</td>\n      <td>3</td>\n      <td>34</td>\n      <td>2</td>\n    </tr>\n    <tr>\n      <th>66</th>\n      <td>1M</td>\n      <td>1</td>\n      <td>1</td>\n      <td>0</td>\n      <td>0</td>\n      <td>0</td>\n      <td>0</td>\n      <td>0</td>\n      <td>1</td>\n      <td>0</td>\n    </tr>\n    <tr>\n      <th>78</th>\n      <td>1R</td>\n      <td>6</td>\n      <td>6</td>\n      <td>33</td>\n      <td>0</td>\n      <td>2</td>\n      <td>0</td>\n      <td>0</td>\n      <td>4</td>\n      <td>0</td>\n    </tr>\n    <tr>\n      <th>83</th>\n      <td>2A</td>\n      <td>7</td>\n      <td>7</td>\n      <td>100</td>\n      <td>0</td>\n      <td>7</td>\n      <td>0</td>\n      <td>0</td>\n      <td>0</td>\n      <td>0</td>\n    </tr>\n    <tr>\n      <th>97</th>\n      <td>3A</td>\n      <td>1</td>\n      <td>2</td>\n      <td>100</td>\n      <td>0</td>\n      <td>2</td>\n      <td>0</td>\n      <td>0</td>\n      <td>0</td>\n      <td>0</td>\n    </tr>\n    <tr>\n      <th>251</th>\n      <td>F</td>\n      <td>12</td>\n      <td>13</td>\n      <td>53</td>\n      <td>0</td>\n      <td>7</td>\n      <td>0</td>\n      <td>0</td>\n      <td>6</td>\n      <td>0</td>\n    </tr>\n    <tr>\n      <th>263</th>\n      <td>LAM</td>\n      <td>169</td>\n      <td>231</td>\n      <td>99</td>\n      <td>3</td>\n      <td>223</td>\n      <td>0</td>\n      <td>7</td>\n      <td>1</td>\n      <td>7</td>\n    </tr>\n    <tr>\n      <th>279</th>\n      <td>LFE</td>\n      <td>34</td>\n      <td>36</td>\n      <td>100</td>\n      <td>11</td>\n      <td>32</td>\n      <td>0</td>\n      <td>4</td>\n      <td>0</td>\n      <td>4</td>\n    </tr>\n  </tbody>\n</table>\n</div>"
     },
     "execution_count": 15,
     "metadata": {},
     "output_type": "execute_result"
    }
   ],
   "source": [
    "# number of rows in df\n",
    "length = len(df.index)\n",
    "\n",
    "# create uninitialized np array of booleans with length equal to number of df rows\n",
    "mask = np.empty(shape=length,dtype=bool)\n",
    "\n",
    "# turn into mask\n",
    "for i in range(length):\n",
    "    bed = df.iloc[i,0]\n",
    "    if len(bed) < 4:\n",
    "        np.put(mask,i,True)\n",
    "    else:\n",
    "        np.put(mask,i,False)\n",
    "\n",
    "df.loc[mask]"
   ],
   "metadata": {
    "collapsed": false
   }
  },
  {
   "cell_type": "markdown",
   "source": [
    "# Ancient (long-forgotten) accessions"
   ],
   "metadata": {
    "collapsed": false
   }
  },
  {
   "cell_type": "code",
   "execution_count": 19,
   "outputs": [
    {
     "data": {
      "text/plain": "     Bed  Label   Geo?  Days elapsed since ItemStatusDate  \\\n0  1e+01  False  False                               6502   \n1  1e+01  False  False                               6502   \n2  1e+01  False  False                               6243   \n3  1e+01  False  False                               6498   \n4  1e+01   True  False                                535   \n\n                            Taxon  \n0                    Quercus ilex  \n1  Fagus sylvatica 'Asplenifolia'  \n2             Hypericum calycinum  \n3               Quercus palustris  \n4        Prunus 'Pink Perfection'  ",
      "text/html": "<div>\n<style scoped>\n    .dataframe tbody tr th:only-of-type {\n        vertical-align: middle;\n    }\n\n    .dataframe tbody tr th {\n        vertical-align: top;\n    }\n\n    .dataframe thead th {\n        text-align: right;\n    }\n</style>\n<table border=\"1\" class=\"dataframe\">\n  <thead>\n    <tr style=\"text-align: right;\">\n      <th></th>\n      <th>Bed</th>\n      <th>Label</th>\n      <th>Geo?</th>\n      <th>Days elapsed since ItemStatusDate</th>\n      <th>Taxon</th>\n    </tr>\n  </thead>\n  <tbody>\n    <tr>\n      <th>0</th>\n      <td>1e+01</td>\n      <td>False</td>\n      <td>False</td>\n      <td>6502</td>\n      <td>Quercus ilex</td>\n    </tr>\n    <tr>\n      <th>1</th>\n      <td>1e+01</td>\n      <td>False</td>\n      <td>False</td>\n      <td>6502</td>\n      <td>Fagus sylvatica 'Asplenifolia'</td>\n    </tr>\n    <tr>\n      <th>2</th>\n      <td>1e+01</td>\n      <td>False</td>\n      <td>False</td>\n      <td>6243</td>\n      <td>Hypericum calycinum</td>\n    </tr>\n    <tr>\n      <th>3</th>\n      <td>1e+01</td>\n      <td>False</td>\n      <td>False</td>\n      <td>6498</td>\n      <td>Quercus palustris</td>\n    </tr>\n    <tr>\n      <th>4</th>\n      <td>1e+01</td>\n      <td>True</td>\n      <td>False</td>\n      <td>535</td>\n      <td>Prunus 'Pink Perfection'</td>\n    </tr>\n  </tbody>\n</table>\n</div>"
     },
     "execution_count": 19,
     "metadata": {},
     "output_type": "execute_result"
    }
   ],
   "source": [
    "from parse_data import raw_df\n",
    "\n",
    "df = raw_df('Any')\n",
    "df.head()"
   ],
   "metadata": {
    "collapsed": false
   }
  },
  {
   "cell_type": "code",
   "execution_count": 21,
   "outputs": [
    {
     "data": {
      "text/plain": "         Bed  Label   Geo?  Days elapsed since ItemStatusDate  \\\n0      1e+01  False  False                               6502   \n1      1e+01  False  False                               6502   \n2      1e+01  False  False                               6243   \n3      1e+01  False  False                               6498   \n16      1B16  False  False                               5428   \n...      ...    ...    ...                                ...   \n10400   FS03  False  False                               5724   \n10401   FS03  False  False                               5562   \n10402   FS03  False  False                               5724   \n10404   FS03  False  False                               5746   \n10407   FS04  False  False                               5667   \n\n                                   Taxon  \n0                           Quercus ilex  \n1         Fagus sylvatica 'Asplenifolia'  \n2                    Hypericum calycinum  \n3                      Quercus palustris  \n16                  Woodwardia fimbriata  \n...                                  ...  \n10400  Picea jezoensis subsp. hondoensis  \n10401                     Picea asperata  \n10402                   Picea brachytyla  \n10404   Picea jezoensis var. microsperma  \n10407                    Aesculus indica  \n\n[1557 rows x 5 columns]",
      "text/html": "<div>\n<style scoped>\n    .dataframe tbody tr th:only-of-type {\n        vertical-align: middle;\n    }\n\n    .dataframe tbody tr th {\n        vertical-align: top;\n    }\n\n    .dataframe thead th {\n        text-align: right;\n    }\n</style>\n<table border=\"1\" class=\"dataframe\">\n  <thead>\n    <tr style=\"text-align: right;\">\n      <th></th>\n      <th>Bed</th>\n      <th>Label</th>\n      <th>Geo?</th>\n      <th>Days elapsed since ItemStatusDate</th>\n      <th>Taxon</th>\n    </tr>\n  </thead>\n  <tbody>\n    <tr>\n      <th>0</th>\n      <td>1e+01</td>\n      <td>False</td>\n      <td>False</td>\n      <td>6502</td>\n      <td>Quercus ilex</td>\n    </tr>\n    <tr>\n      <th>1</th>\n      <td>1e+01</td>\n      <td>False</td>\n      <td>False</td>\n      <td>6502</td>\n      <td>Fagus sylvatica 'Asplenifolia'</td>\n    </tr>\n    <tr>\n      <th>2</th>\n      <td>1e+01</td>\n      <td>False</td>\n      <td>False</td>\n      <td>6243</td>\n      <td>Hypericum calycinum</td>\n    </tr>\n    <tr>\n      <th>3</th>\n      <td>1e+01</td>\n      <td>False</td>\n      <td>False</td>\n      <td>6498</td>\n      <td>Quercus palustris</td>\n    </tr>\n    <tr>\n      <th>16</th>\n      <td>1B16</td>\n      <td>False</td>\n      <td>False</td>\n      <td>5428</td>\n      <td>Woodwardia fimbriata</td>\n    </tr>\n    <tr>\n      <th>...</th>\n      <td>...</td>\n      <td>...</td>\n      <td>...</td>\n      <td>...</td>\n      <td>...</td>\n    </tr>\n    <tr>\n      <th>10400</th>\n      <td>FS03</td>\n      <td>False</td>\n      <td>False</td>\n      <td>5724</td>\n      <td>Picea jezoensis subsp. hondoensis</td>\n    </tr>\n    <tr>\n      <th>10401</th>\n      <td>FS03</td>\n      <td>False</td>\n      <td>False</td>\n      <td>5562</td>\n      <td>Picea asperata</td>\n    </tr>\n    <tr>\n      <th>10402</th>\n      <td>FS03</td>\n      <td>False</td>\n      <td>False</td>\n      <td>5724</td>\n      <td>Picea brachytyla</td>\n    </tr>\n    <tr>\n      <th>10404</th>\n      <td>FS03</td>\n      <td>False</td>\n      <td>False</td>\n      <td>5746</td>\n      <td>Picea jezoensis var. microsperma</td>\n    </tr>\n    <tr>\n      <th>10407</th>\n      <td>FS04</td>\n      <td>False</td>\n      <td>False</td>\n      <td>5667</td>\n      <td>Aesculus indica</td>\n    </tr>\n  </tbody>\n</table>\n<p>1557 rows × 5 columns</p>\n</div>"
     },
     "execution_count": 21,
     "metadata": {},
     "output_type": "execute_result"
    }
   ],
   "source": [
    "# number of rows in df\n",
    "length = len(df.index)\n",
    "\n",
    "# create uninitialized np array of booleans with length equal to number of df rows\n",
    "mask = np.empty(shape=length,dtype=bool)\n",
    "\n",
    "# turn into mask\n",
    "for i in range(length):\n",
    "    days = df.iloc[i,3]\n",
    "    if days > 3000:\n",
    "        np.put(mask,i,True)\n",
    "    else:\n",
    "        np.put(mask,i,False)\n",
    "\n",
    "df.loc[mask]"
   ],
   "metadata": {
    "collapsed": false
   }
  },
  {
   "cell_type": "markdown",
   "source": [
    "# Alpine garden code 1A is obsoleted by L"
   ],
   "metadata": {
    "collapsed": false
   }
  },
  {
   "cell_type": "code",
   "execution_count": 7,
   "outputs": [
    {
     "data": {
      "text/plain": "Empty DataFrame\nColumns: [Bed, Species Count, Item Count, Label Stats, Geo-record Stats, Labelled, not geo-recorded, Geo-recorded, not labelled, Labelled and Geo-recorded, Not labelled nor geo-recorded, Labelled, Geo-recorded, Post-Fuzzy]\nIndex: []",
      "text/html": "<div>\n<style scoped>\n    .dataframe tbody tr th:only-of-type {\n        vertical-align: middle;\n    }\n\n    .dataframe tbody tr th {\n        vertical-align: top;\n    }\n\n    .dataframe thead th {\n        text-align: right;\n    }\n</style>\n<table border=\"1\" class=\"dataframe\">\n  <thead>\n    <tr style=\"text-align: right;\">\n      <th></th>\n      <th>Bed</th>\n      <th>Species Count</th>\n      <th>Item Count</th>\n      <th>Label Stats</th>\n      <th>Geo-record Stats</th>\n      <th>Labelled, not geo-recorded</th>\n      <th>Geo-recorded, not labelled</th>\n      <th>Labelled and Geo-recorded</th>\n      <th>Not labelled nor geo-recorded</th>\n      <th>Labelled, Geo-recorded, Post-Fuzzy</th>\n    </tr>\n  </thead>\n  <tbody>\n  </tbody>\n</table>\n</div>"
     },
     "execution_count": 7,
     "metadata": {},
     "output_type": "execute_result"
    }
   ],
   "source": [
    "# number of rows in df\n",
    "length = len(df.index)\n",
    "\n",
    "# create uninitialized np array of booleans with length equal to number of df rows\n",
    "mask = np.empty(shape=length,dtype=bool)\n",
    "\n",
    "# turn into mask\n",
    "for i in range(length):\n",
    "    bed = df.iloc[i,0]\n",
    "    if bed.startswith('1E'):\n",
    "        np.put(mask,i,True)\n",
    "    else:\n",
    "        np.put(mask,i,False)\n",
    "\n",
    "df.loc[mask]"
   ],
   "metadata": {
    "collapsed": false
   }
  },
  {
   "cell_type": "markdown",
   "source": [
    "Empty beds:\n",
    "- 3X\n",
    "- 1T\n",
    "- 1Q\n",
    "- 1A (obsoleted by L)\n",
    "- LIH (intermountain habitat)\n",
    "- OF (component)"
   ],
   "metadata": {
    "collapsed": false
   }
  }
 ],
 "metadata": {
  "kernelspec": {
   "display_name": "Python 3",
   "language": "python",
   "name": "python3"
  },
  "language_info": {
   "codemirror_mode": {
    "name": "ipython",
    "version": 2
   },
   "file_extension": ".py",
   "mimetype": "text/x-python",
   "name": "python",
   "nbconvert_exporter": "python",
   "pygments_lexer": "ipython2",
   "version": "2.7.6"
  }
 },
 "nbformat": 4,
 "nbformat_minor": 0
}
