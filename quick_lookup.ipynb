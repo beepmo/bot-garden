{
 "cells": [
  {
   "cell_type": "code",
   "execution_count": 3,
   "metadata": {
    "collapsed": true
   },
   "outputs": [],
   "source": [
    "import numpy as np"
   ]
  },
  {
   "cell_type": "markdown",
   "source": [
    "---\n",
    "# Beds with number names"
   ],
   "metadata": {
    "collapsed": false
   }
  },
  {
   "cell_type": "code",
   "execution_count": 4,
   "outputs": [
    {
     "name": "stdout",
     "output_type": "stream",
     "text": [
      "Time taken to parse csv df into plottable df: 0.488897.\n",
      "Memory used: \n",
      "Index                                   128\n",
      "Bed                                   19737\n",
      "Species Count                           648\n",
      "Item Count                              648\n",
      "Label Stats                             324\n",
      "Geo-record Stats                        324\n",
      "Labelled, not geo-recorded              648\n",
      "Geo-recorded, not labelled              648\n",
      "Labelled and Geo-recorded               648\n",
      "Not labelled nor geo-recorded           648\n",
      "Labelled, Geo-recorded, Post-Fuzzy      648\n",
      "dtype: int64.\n",
      "Bed name is 1J of type <class 'str'>.\n",
      "Bed name is 5 of type <class 'str'>.\n",
      "Bed name is 1D of type <class 'str'>.\n",
      "Bed name is 1R of type <class 'str'>.\n",
      "Bed name is 5C of type <class 'str'>.\n",
      "Bed name is 5B of type <class 'str'>.\n",
      "Bed name is 5A of type <class 'str'>.\n",
      "Bed name is 8 of type <class 'str'>.\n",
      "Bed name is 1G of type <class 'str'>.\n",
      "Bed name is 3A of type <class 'str'>.\n",
      "Bed name is F of type <class 'str'>.\n",
      "Bed name is RB of type <class 'str'>.\n",
      "Bed name is 1M of type <class 'str'>.\n",
      "Bed name is 2A of type <class 'str'>.\n",
      "Bed name is 1C of type <class 'str'>.\n"
     ]
    },
    {
     "data": {
      "text/plain": "    Bed  Species Count  Item Count  Label Stats  Geo-record Stats  \\\n79   1J             53          99           61                 7   \n164   5             10          11           27                 0   \n180  1D             22          22            0                 4   \n216  1R              6           6           33                 0   \n235  5C             28          30            0                 0   \n237  5B             17          17            0                 0   \n238  5A             73          76            0                 0   \n240   8            150         163           87                 0   \n255  1G              1           1            0                 0   \n266  3A              3           6           33                66   \n280   F            262         265           95                 0   \n286  RB              1           1            0                 0   \n318  1M              1           1            0                 0   \n322  2A              7           7          100                 0   \n323  1C              1           1            0                 0   \n\n     Labelled, not geo-recorded  Geo-recorded, not labelled  \\\n79                           58                           4   \n164                           3                           0   \n180                           0                           1   \n216                           2                           0   \n235                           0                           0   \n237                           0                           0   \n238                           0                           0   \n240                         143                           0   \n255                           0                           0   \n266                           2                           4   \n280                         252                           0   \n286                           0                           0   \n318                           0                           0   \n322                           7                           0   \n323                           0                           0   \n\n     Labelled and Geo-recorded  Not labelled nor geo-recorded  \\\n79                           3                             34   \n164                          0                              8   \n180                          0                             21   \n216                          0                              4   \n235                          0                             30   \n237                          0                             17   \n238                          0                             76   \n240                          0                             20   \n255                          0                              1   \n266                          0                              0   \n280                          0                             13   \n286                          0                              1   \n318                          0                              1   \n322                          0                              0   \n323                          0                              1   \n\n     Labelled, Geo-recorded, Post-Fuzzy  \n79                                    2  \n164                                   0  \n180                                   0  \n216                                   0  \n235                                   0  \n237                                   0  \n238                                   0  \n240                                   0  \n255                                   0  \n266                                   0  \n280                                   0  \n286                                   0  \n318                                   0  \n322                                   0  \n323                                   0  ",
      "text/html": "<div>\n<style scoped>\n    .dataframe tbody tr th:only-of-type {\n        vertical-align: middle;\n    }\n\n    .dataframe tbody tr th {\n        vertical-align: top;\n    }\n\n    .dataframe thead th {\n        text-align: right;\n    }\n</style>\n<table border=\"1\" class=\"dataframe\">\n  <thead>\n    <tr style=\"text-align: right;\">\n      <th></th>\n      <th>Bed</th>\n      <th>Species Count</th>\n      <th>Item Count</th>\n      <th>Label Stats</th>\n      <th>Geo-record Stats</th>\n      <th>Labelled, not geo-recorded</th>\n      <th>Geo-recorded, not labelled</th>\n      <th>Labelled and Geo-recorded</th>\n      <th>Not labelled nor geo-recorded</th>\n      <th>Labelled, Geo-recorded, Post-Fuzzy</th>\n    </tr>\n  </thead>\n  <tbody>\n    <tr>\n      <th>79</th>\n      <td>1J</td>\n      <td>53</td>\n      <td>99</td>\n      <td>61</td>\n      <td>7</td>\n      <td>58</td>\n      <td>4</td>\n      <td>3</td>\n      <td>34</td>\n      <td>2</td>\n    </tr>\n    <tr>\n      <th>164</th>\n      <td>5</td>\n      <td>10</td>\n      <td>11</td>\n      <td>27</td>\n      <td>0</td>\n      <td>3</td>\n      <td>0</td>\n      <td>0</td>\n      <td>8</td>\n      <td>0</td>\n    </tr>\n    <tr>\n      <th>180</th>\n      <td>1D</td>\n      <td>22</td>\n      <td>22</td>\n      <td>0</td>\n      <td>4</td>\n      <td>0</td>\n      <td>1</td>\n      <td>0</td>\n      <td>21</td>\n      <td>0</td>\n    </tr>\n    <tr>\n      <th>216</th>\n      <td>1R</td>\n      <td>6</td>\n      <td>6</td>\n      <td>33</td>\n      <td>0</td>\n      <td>2</td>\n      <td>0</td>\n      <td>0</td>\n      <td>4</td>\n      <td>0</td>\n    </tr>\n    <tr>\n      <th>235</th>\n      <td>5C</td>\n      <td>28</td>\n      <td>30</td>\n      <td>0</td>\n      <td>0</td>\n      <td>0</td>\n      <td>0</td>\n      <td>0</td>\n      <td>30</td>\n      <td>0</td>\n    </tr>\n    <tr>\n      <th>237</th>\n      <td>5B</td>\n      <td>17</td>\n      <td>17</td>\n      <td>0</td>\n      <td>0</td>\n      <td>0</td>\n      <td>0</td>\n      <td>0</td>\n      <td>17</td>\n      <td>0</td>\n    </tr>\n    <tr>\n      <th>238</th>\n      <td>5A</td>\n      <td>73</td>\n      <td>76</td>\n      <td>0</td>\n      <td>0</td>\n      <td>0</td>\n      <td>0</td>\n      <td>0</td>\n      <td>76</td>\n      <td>0</td>\n    </tr>\n    <tr>\n      <th>240</th>\n      <td>8</td>\n      <td>150</td>\n      <td>163</td>\n      <td>87</td>\n      <td>0</td>\n      <td>143</td>\n      <td>0</td>\n      <td>0</td>\n      <td>20</td>\n      <td>0</td>\n    </tr>\n    <tr>\n      <th>255</th>\n      <td>1G</td>\n      <td>1</td>\n      <td>1</td>\n      <td>0</td>\n      <td>0</td>\n      <td>0</td>\n      <td>0</td>\n      <td>0</td>\n      <td>1</td>\n      <td>0</td>\n    </tr>\n    <tr>\n      <th>266</th>\n      <td>3A</td>\n      <td>3</td>\n      <td>6</td>\n      <td>33</td>\n      <td>66</td>\n      <td>2</td>\n      <td>4</td>\n      <td>0</td>\n      <td>0</td>\n      <td>0</td>\n    </tr>\n    <tr>\n      <th>280</th>\n      <td>F</td>\n      <td>262</td>\n      <td>265</td>\n      <td>95</td>\n      <td>0</td>\n      <td>252</td>\n      <td>0</td>\n      <td>0</td>\n      <td>13</td>\n      <td>0</td>\n    </tr>\n    <tr>\n      <th>286</th>\n      <td>RB</td>\n      <td>1</td>\n      <td>1</td>\n      <td>0</td>\n      <td>0</td>\n      <td>0</td>\n      <td>0</td>\n      <td>0</td>\n      <td>1</td>\n      <td>0</td>\n    </tr>\n    <tr>\n      <th>318</th>\n      <td>1M</td>\n      <td>1</td>\n      <td>1</td>\n      <td>0</td>\n      <td>0</td>\n      <td>0</td>\n      <td>0</td>\n      <td>0</td>\n      <td>1</td>\n      <td>0</td>\n    </tr>\n    <tr>\n      <th>322</th>\n      <td>2A</td>\n      <td>7</td>\n      <td>7</td>\n      <td>100</td>\n      <td>0</td>\n      <td>7</td>\n      <td>0</td>\n      <td>0</td>\n      <td>0</td>\n      <td>0</td>\n    </tr>\n    <tr>\n      <th>323</th>\n      <td>1C</td>\n      <td>1</td>\n      <td>1</td>\n      <td>0</td>\n      <td>0</td>\n      <td>0</td>\n      <td>0</td>\n      <td>0</td>\n      <td>1</td>\n      <td>0</td>\n    </tr>\n  </tbody>\n</table>\n</div>"
     },
     "execution_count": 4,
     "metadata": {},
     "output_type": "execute_result"
    }
   ],
   "source": [
    "from parse_data import concise_df\n",
    "\n",
    "df = concise_df('')\n",
    "\n",
    "# number of rows in df\n",
    "length = len(df.index)\n",
    "\n",
    "# create uninitialized np array of booleans with length equal to number of df rows\n",
    "mask = np.empty(shape=length,dtype=bool)\n",
    "\n",
    "# turn into mask\n",
    "for i in range(length):\n",
    "    bed = df.iloc[i,0]\n",
    "    if len(bed) < 3:\n",
    "        print(f'Bed name is {bed} of type {type(bed)}.')\n",
    "        np.put(mask,i,True)\n",
    "    else:\n",
    "        np.put(mask,i,False)\n",
    "\n",
    "df.loc[mask]"
   ],
   "metadata": {
    "collapsed": false
   }
  },
  {
   "cell_type": "markdown",
   "source": [
    "---\n",
    "# Nursery, Herbarium, Nitobe, Garden Components"
   ],
   "metadata": {
    "collapsed": false
   }
  },
  {
   "cell_type": "code",
   "execution_count": 66,
   "outputs": [
    {
     "data": {
      "text/plain": "     Bed  Species Count  Item Count  Label Stats  Geo-record Stats  \\\n50   LFE             34          36          100                11   \n59   LAM            169         231           99                 3   \n79    1J             53          99           61                 7   \n164    5             10          11           27                 0   \n180   1D             22          22            0                 4   \n216   1R              6           6           33                 0   \n235   5C             28          30            0                 0   \n237   5B             17          17            0                 0   \n238   5A             73          76            0                 0   \n240    8            150         163           87                 0   \n255   1G              1           1            0                 0   \n266   3A              3           6           33                66   \n280    F            262         265           95                 0   \n286   RB              1           1            0                 0   \n318   1M              1           1            0                 0   \n322   2A              7           7          100                 0   \n323   1C              1           1            0                 0   \n\n                                  Days since sightings  \n50   [880, 916, 880, 881, 1286, 881, 881, 880, 881,...  \n59   [654, 562, 611, 2067, 565, 544, 544, 544, 508,...  \n79   [1782, 1452, 2824, 2824, 2824, 4412, 4412, 211...  \n164  [18340, 4245, 4245, 22993, 22993, 17174, 14982...  \n180  [14113, 9733, 9733, 6568, 17174, 17174, 17174,...  \n216                 [1123, 1181, 1181, 1098, 492, 844]  \n235  [19365, 17904, 17904, 17904, 17904, 17904, 179...  \n237  [17904, 17904, 17904, 17904, 17904, 17904, 179...  \n238  [25549, 17904, 17904, 17904, 17904, 17904, 179...  \n240  [1305, 1802, 1669, 460, 1306, 1262, 75, 1626, ...  \n255                                             [4287]  \n266               [3418, 3418, 3418, 3418, 1221, 1221]  \n280  [611, 251, 251, 251, 251, 251, 251, 251, 251, ...  \n286                                             [1521]  \n318                                              [761]  \n322                [565, 565, 565, 565, 565, 235, 184]  \n323                                              [166]  ",
      "text/html": "<div>\n<style scoped>\n    .dataframe tbody tr th:only-of-type {\n        vertical-align: middle;\n    }\n\n    .dataframe tbody tr th {\n        vertical-align: top;\n    }\n\n    .dataframe thead th {\n        text-align: right;\n    }\n</style>\n<table border=\"1\" class=\"dataframe\">\n  <thead>\n    <tr style=\"text-align: right;\">\n      <th></th>\n      <th>Bed</th>\n      <th>Species Count</th>\n      <th>Item Count</th>\n      <th>Label Stats</th>\n      <th>Geo-record Stats</th>\n      <th>Days since sightings</th>\n    </tr>\n  </thead>\n  <tbody>\n    <tr>\n      <th>50</th>\n      <td>LFE</td>\n      <td>34</td>\n      <td>36</td>\n      <td>100</td>\n      <td>11</td>\n      <td>[880, 916, 880, 881, 1286, 881, 881, 880, 881,...</td>\n    </tr>\n    <tr>\n      <th>59</th>\n      <td>LAM</td>\n      <td>169</td>\n      <td>231</td>\n      <td>99</td>\n      <td>3</td>\n      <td>[654, 562, 611, 2067, 565, 544, 544, 544, 508,...</td>\n    </tr>\n    <tr>\n      <th>79</th>\n      <td>1J</td>\n      <td>53</td>\n      <td>99</td>\n      <td>61</td>\n      <td>7</td>\n      <td>[1782, 1452, 2824, 2824, 2824, 4412, 4412, 211...</td>\n    </tr>\n    <tr>\n      <th>164</th>\n      <td>5</td>\n      <td>10</td>\n      <td>11</td>\n      <td>27</td>\n      <td>0</td>\n      <td>[18340, 4245, 4245, 22993, 22993, 17174, 14982...</td>\n    </tr>\n    <tr>\n      <th>180</th>\n      <td>1D</td>\n      <td>22</td>\n      <td>22</td>\n      <td>0</td>\n      <td>4</td>\n      <td>[14113, 9733, 9733, 6568, 17174, 17174, 17174,...</td>\n    </tr>\n    <tr>\n      <th>216</th>\n      <td>1R</td>\n      <td>6</td>\n      <td>6</td>\n      <td>33</td>\n      <td>0</td>\n      <td>[1123, 1181, 1181, 1098, 492, 844]</td>\n    </tr>\n    <tr>\n      <th>235</th>\n      <td>5C</td>\n      <td>28</td>\n      <td>30</td>\n      <td>0</td>\n      <td>0</td>\n      <td>[19365, 17904, 17904, 17904, 17904, 17904, 179...</td>\n    </tr>\n    <tr>\n      <th>237</th>\n      <td>5B</td>\n      <td>17</td>\n      <td>17</td>\n      <td>0</td>\n      <td>0</td>\n      <td>[17904, 17904, 17904, 17904, 17904, 17904, 179...</td>\n    </tr>\n    <tr>\n      <th>238</th>\n      <td>5A</td>\n      <td>73</td>\n      <td>76</td>\n      <td>0</td>\n      <td>0</td>\n      <td>[25549, 17904, 17904, 17904, 17904, 17904, 179...</td>\n    </tr>\n    <tr>\n      <th>240</th>\n      <td>8</td>\n      <td>150</td>\n      <td>163</td>\n      <td>87</td>\n      <td>0</td>\n      <td>[1305, 1802, 1669, 460, 1306, 1262, 75, 1626, ...</td>\n    </tr>\n    <tr>\n      <th>255</th>\n      <td>1G</td>\n      <td>1</td>\n      <td>1</td>\n      <td>0</td>\n      <td>0</td>\n      <td>[4287]</td>\n    </tr>\n    <tr>\n      <th>266</th>\n      <td>3A</td>\n      <td>3</td>\n      <td>6</td>\n      <td>33</td>\n      <td>66</td>\n      <td>[3418, 3418, 3418, 3418, 1221, 1221]</td>\n    </tr>\n    <tr>\n      <th>280</th>\n      <td>F</td>\n      <td>262</td>\n      <td>265</td>\n      <td>95</td>\n      <td>0</td>\n      <td>[611, 251, 251, 251, 251, 251, 251, 251, 251, ...</td>\n    </tr>\n    <tr>\n      <th>286</th>\n      <td>RB</td>\n      <td>1</td>\n      <td>1</td>\n      <td>0</td>\n      <td>0</td>\n      <td>[1521]</td>\n    </tr>\n    <tr>\n      <th>318</th>\n      <td>1M</td>\n      <td>1</td>\n      <td>1</td>\n      <td>0</td>\n      <td>0</td>\n      <td>[761]</td>\n    </tr>\n    <tr>\n      <th>322</th>\n      <td>2A</td>\n      <td>7</td>\n      <td>7</td>\n      <td>100</td>\n      <td>0</td>\n      <td>[565, 565, 565, 565, 565, 235, 184]</td>\n    </tr>\n    <tr>\n      <th>323</th>\n      <td>1C</td>\n      <td>1</td>\n      <td>1</td>\n      <td>0</td>\n      <td>0</td>\n      <td>[166]</td>\n    </tr>\n  </tbody>\n</table>\n</div>"
     },
     "execution_count": 66,
     "metadata": {},
     "output_type": "execute_result"
    }
   ],
   "source": [
    "# number of rows in df\n",
    "length = len(df.index)\n",
    "\n",
    "# create uninitialized np array of booleans with length equal to number of df rows\n",
    "mask = np.empty(shape=length,dtype=bool)\n",
    "\n",
    "# turn into mask\n",
    "for i in range(length):\n",
    "    bed = df.iloc[i,0]\n",
    "    if len(bed) < 4:\n",
    "        np.put(mask,i,True)\n",
    "    else:\n",
    "        np.put(mask,i,False)\n",
    "\n",
    "df.loc[mask]"
   ],
   "metadata": {
    "collapsed": false
   }
  },
  {
   "cell_type": "markdown",
   "source": [
    "# Alpine garden code 1A is obsoleted by L"
   ],
   "metadata": {
    "collapsed": false
   }
  },
  {
   "cell_type": "code",
   "execution_count": 1,
   "outputs": [
    {
     "ename": "NameError",
     "evalue": "name 'df' is not defined",
     "output_type": "error",
     "traceback": [
      "\u001B[0;31m---------------------------------------------------------------------------\u001B[0m",
      "\u001B[0;31mNameError\u001B[0m                                 Traceback (most recent call last)",
      "Cell \u001B[0;32mIn[1], line 2\u001B[0m\n\u001B[1;32m      1\u001B[0m \u001B[38;5;66;03m# number of rows in df\u001B[39;00m\n\u001B[0;32m----> 2\u001B[0m length \u001B[38;5;241m=\u001B[39m \u001B[38;5;28mlen\u001B[39m(\u001B[43mdf\u001B[49m\u001B[38;5;241m.\u001B[39mindex)\n\u001B[1;32m      4\u001B[0m \u001B[38;5;66;03m# create uninitialized np array of booleans with length equal to number of df rows\u001B[39;00m\n\u001B[1;32m      5\u001B[0m mask \u001B[38;5;241m=\u001B[39m np\u001B[38;5;241m.\u001B[39mempty(shape\u001B[38;5;241m=\u001B[39mlength,dtype\u001B[38;5;241m=\u001B[39m\u001B[38;5;28mbool\u001B[39m)\n",
      "\u001B[0;31mNameError\u001B[0m: name 'df' is not defined"
     ]
    }
   ],
   "source": [
    "# number of rows in df\n",
    "length = len(df.index)\n",
    "\n",
    "# create uninitialized np array of booleans with length equal to number of df rows\n",
    "mask = np.empty(shape=length,dtype=bool)\n",
    "\n",
    "# turn into mask\n",
    "for i in range(length):\n",
    "    bed = df.iloc[i,0]\n",
    "    if bed.startswith('1E'):\n",
    "        np.put(mask,i,True)\n",
    "    else:\n",
    "        np.put(mask,i,False)\n",
    "\n",
    "df.loc[mask]"
   ],
   "metadata": {
    "collapsed": false
   }
  },
  {
   "cell_type": "markdown",
   "source": [
    "Empty beds:\n",
    "- 3X\n",
    "- 1T\n",
    "- 1Q\n",
    "- 1A (obsoleted by L)\n",
    "- LIH (intermountain habitat)\n",
    "- OF (component)"
   ],
   "metadata": {
    "collapsed": false
   }
  }
 ],
 "metadata": {
  "kernelspec": {
   "display_name": "Python 3",
   "language": "python",
   "name": "python3"
  },
  "language_info": {
   "codemirror_mode": {
    "name": "ipython",
    "version": 2
   },
   "file_extension": ".py",
   "mimetype": "text/x-python",
   "name": "python",
   "nbconvert_exporter": "python",
   "pygments_lexer": "ipython2",
   "version": "2.7.6"
  }
 },
 "nbformat": 4,
 "nbformat_minor": 0
}
