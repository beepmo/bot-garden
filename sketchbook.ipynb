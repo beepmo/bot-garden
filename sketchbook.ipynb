{
 "cells": [
  {
   "cell_type": "code",
   "execution_count": 3,
   "outputs": [
    {
     "name": "stdout",
     "output_type": "stream",
     "text": [
      "     Bed  Label   Geo?  Days Since Sighted                           Taxon\n",
      "0  1e+01  False  False                6482                    Quercus ilex\n",
      "1  1e+01  False  False                6482  Fagus sylvatica 'Asplenifolia'\n",
      "2  1e+01  False  False                6223             Hypericum calycinum\n",
      "3  1e+01  False  False                6478               Quercus palustris\n",
      "4  1e+01   True  False                 515        Prunus 'Pink Perfection'\n"
     ]
    }
   ],
   "source": [
    "import pandas as pd\n",
    "from datetime import datetime\n",
    "import plotly.express as px\n",
    "from parse_data import RAW_CACHE"
   ],
   "metadata": {
    "collapsed": false
   }
  },
  {
   "cell_type": "code",
   "execution_count": null,
   "outputs": [],
   "source": [
    "import plotly.graph_objects as go\n",
    "from plotly.subplots import make_subplots\n",
    "import pandas as pd"
   ],
   "metadata": {
    "collapsed": false
   }
  },
  {
   "cell_type": "code",
   "execution_count": 4,
   "outputs": [
    {
     "name": "stdout",
     "output_type": "stream",
     "text": [
      "   Unnamed: 0 region   county salesperson  calls  sales\n",
      "0           0  North   Dallam          JE     35     23\n",
      "1           1  North   Dallam          ZQ     49     13\n",
      "2           2  North   Dallam          IJ     20      6\n",
      "3           3  North  Hartley          WE     39     37\n",
      "4           4  North  Hartley          PL     42     37\n"
     ]
    }
   ],
   "source": [
    "df = pd.read_csv('https://raw.githubusercontent.com/plotly/datasets/master/sales_success.csv')\n",
    "print(df.head())"
   ],
   "metadata": {
    "collapsed": false
   }
  },
  {
   "cell_type": "code",
   "execution_count": 5,
   "outputs": [
    {
     "name": "stderr",
     "output_type": "stream",
     "text": [
      "/var/folders/ff/cp3l70_15_q_jdph6bd3c_jm0000gn/T/ipykernel_9039/3362649504.py:24: FutureWarning:\n",
      "\n",
      "The frame.append method is deprecated and will be removed from pandas in a future version. Use pandas.concat instead.\n",
      "\n",
      "/var/folders/ff/cp3l70_15_q_jdph6bd3c_jm0000gn/T/ipykernel_9039/3362649504.py:15: FutureWarning:\n",
      "\n",
      "The default value of numeric_only in DataFrameGroupBy.sum is deprecated. In a future version, numeric_only will default to False. Either specify numeric_only or select only columns which should be valid for the function.\n",
      "\n",
      "/var/folders/ff/cp3l70_15_q_jdph6bd3c_jm0000gn/T/ipykernel_9039/3362649504.py:24: FutureWarning:\n",
      "\n",
      "The frame.append method is deprecated and will be removed from pandas in a future version. Use pandas.concat instead.\n",
      "\n",
      "/var/folders/ff/cp3l70_15_q_jdph6bd3c_jm0000gn/T/ipykernel_9039/3362649504.py:15: FutureWarning:\n",
      "\n",
      "The default value of numeric_only in DataFrameGroupBy.sum is deprecated. In a future version, numeric_only will default to False. Either specify numeric_only or select only columns which should be valid for the function.\n",
      "\n",
      "/var/folders/ff/cp3l70_15_q_jdph6bd3c_jm0000gn/T/ipykernel_9039/3362649504.py:24: FutureWarning:\n",
      "\n",
      "The frame.append method is deprecated and will be removed from pandas in a future version. Use pandas.concat instead.\n",
      "\n",
      "/var/folders/ff/cp3l70_15_q_jdph6bd3c_jm0000gn/T/ipykernel_9039/3362649504.py:28: FutureWarning:\n",
      "\n",
      "The frame.append method is deprecated and will be removed from pandas in a future version. Use pandas.concat instead.\n",
      "\n"
     ]
    }
   ],
   "source": [
    "levels = ['salesperson', 'county', 'region'] # levels used for the hierarchical chart\n",
    "color_columns = ['sales', 'calls']\n",
    "value_column = 'calls'\n",
    "\n",
    "def build_hierarchical_dataframe(df, levels, value_column, color_columns=None):\n",
    "    \"\"\"\n",
    "    Build a hierarchy of levels for Sunburst or Treemap charts.\n",
    "\n",
    "    Levels are given starting from the bottom to the top of the hierarchy,\n",
    "    ie the last level corresponds to the root.\n",
    "    \"\"\"\n",
    "    df_all_trees = pd.DataFrame(columns=['id', 'parent', 'value', 'color'])\n",
    "    for i, level in enumerate(levels):\n",
    "        df_tree = pd.DataFrame(columns=['id', 'parent', 'value', 'color'])\n",
    "        dfg = df.groupby(levels[i:]).sum()\n",
    "        dfg = dfg.reset_index()\n",
    "        df_tree['id'] = dfg[level].copy()\n",
    "        if i < len(levels) - 1:\n",
    "            df_tree['parent'] = dfg[levels[i+1]].copy()\n",
    "        else:\n",
    "            df_tree['parent'] = 'total'\n",
    "        df_tree['value'] = dfg[value_column]\n",
    "        df_tree['color'] = dfg[color_columns[0]] / dfg[color_columns[1]]\n",
    "        df_all_trees = df_all_trees.append(df_tree, ignore_index=True)\n",
    "    total = pd.Series(dict(id='total', parent='',\n",
    "                              value=df[value_column].sum(),\n",
    "                              color=df[color_columns[0]].sum() / df[color_columns[1]].sum()))\n",
    "    df_all_trees = df_all_trees.append(total, ignore_index=True)\n",
    "    return df_all_trees\n",
    "\n",
    "\n",
    "df_all_trees = build_hierarchical_dataframe(df, levels, value_column, color_columns)\n",
    "average_score = df['sales'].sum() / df['calls'].sum()\n",
    "\n"
   ],
   "metadata": {
    "collapsed": false
   }
  },
  {
   "cell_type": "code",
   "execution_count": 6,
   "outputs": [
    {
     "name": "stdout",
     "output_type": "stream",
     "text": [
      "   id    parent value     color\n",
      "0  AX   Houston    42  0.214286\n",
      "1  BI   Hartley    24  0.333333\n",
      "2  BS  Brewster    33  0.424242\n",
      "3  DQ  Presidio    40  0.375000\n",
      "4  DS     Duval    42  0.214286\n"
     ]
    }
   ],
   "source": [
    "print(df_all_trees.head())"
   ],
   "metadata": {
    "collapsed": false
   }
  },
  {
   "cell_type": "code",
   "execution_count": 3,
   "outputs": [
    {
     "data": {
      "application/vnd.plotly.v1+json": {
       "data": [
        {
         "branchvalues": "total",
         "hovertemplate": "<b>%{label} </b> <br> Sales: %{value}<br> Success rate: %{color:.2f}",
         "labels": [
          "AX",
          "BI",
          "BS",
          "DQ",
          "DS",
          "EH",
          "ES",
          "FJ",
          "FL",
          "GT",
          "GW",
          "HW",
          "IJ",
          "IK",
          "IV",
          "JC",
          "JE",
          "JF",
          "KR",
          "LQ",
          "LR",
          "LV",
          "MW",
          "NY",
          "NZ",
          "OH",
          "OT",
          "OY",
          "PL",
          "QJ",
          "QK",
          "QM",
          "RR",
          "SV",
          "TW",
          "TZ",
          "UA",
          "UF",
          "UM",
          "VN",
          "WE",
          "WH",
          "WV",
          "WZ",
          "XH",
          "XY",
          "YA",
          "YJ",
          "YN",
          "ZM",
          "ZQ",
          "Brewster",
          "Dallam",
          "Duval",
          "Floyd",
          "Gray",
          "Hartley",
          "Hidalgo",
          "Houston",
          "Moore",
          "Motley",
          "Pecos",
          "Presidio",
          "Rusk",
          "Shelby",
          "Tyler",
          "Webb",
          "Zavala",
          "East",
          "North",
          "South",
          "West",
          "total"
         ],
         "marker": {
          "cmid": 0.5310344827586206,
          "colors": [
           0.21428571428571427,
           0.3333333333333333,
           0.42424242424242425,
           0.375,
           0.21428571428571427,
           0.7727272727272727,
           0.6326530612244898,
           0.35,
           0.7741935483870968,
           0.13333333333333333,
           0.3,
           0.4,
           0.3,
           0.6060606060606061,
           0.7142857142857143,
           0.8095238095238095,
           0.6571428571428571,
           0.4,
           0.3,
           0.3902439024390244,
           0.1794871794871795,
           0.5238095238095238,
           0.9545454545454546,
           0.42857142857142855,
           0.35555555555555557,
           0.1935483870967742,
           0.2571428571428571,
           0.5,
           0.8809523809523809,
           0.8695652173913043,
           0.36363636363636365,
           0.9375,
           0.5416666666666666,
           0.6666666666666666,
           0.18181818181818182,
           0.6060606060606061,
           0.7727272727272727,
           0.7142857142857143,
           0.3333333333333333,
           0.20689655172413793,
           0.9487179487179487,
           0.8409090909090909,
           0.8333333333333334,
           0.6216216216216216,
           0.1276595744680851,
           0.9032258064516129,
           0.84,
           0.37142857142857144,
           0.6052631578947368,
           0.6190476190476191,
           0.2653061224489796,
           0.4883720930232558,
           0.40384615384615385,
           0.2682926829268293,
           0.6470588235294118,
           0.6260869565217392,
           0.780952380952381,
           0.33663366336633666,
           0.39215686274509803,
           0.4482758620689655,
           0.693069306930693,
           0.808695652173913,
           0.45,
           0.42857142857142855,
           0.23140495867768596,
           0.56,
           0.631578947368421,
           0.7738095238095238,
           0.3931203931203931,
           0.6053882725832013,
           0.5065616797900262,
           0.5887850467289719,
           0.5310344827586206
          ],
          "colorscale": [
           [
            0.0,
            "rgb(103,0,31)"
           ],
           [
            0.1,
            "rgb(178,24,43)"
           ],
           [
            0.2,
            "rgb(214,96,77)"
           ],
           [
            0.3,
            "rgb(244,165,130)"
           ],
           [
            0.4,
            "rgb(253,219,199)"
           ],
           [
            0.5,
            "rgb(247,247,247)"
           ],
           [
            0.6,
            "rgb(209,229,240)"
           ],
           [
            0.7,
            "rgb(146,197,222)"
           ],
           [
            0.8,
            "rgb(67,147,195)"
           ],
           [
            0.9,
            "rgb(33,102,172)"
           ],
           [
            1.0,
            "rgb(5,48,97)"
           ]
          ]
         },
         "name": "",
         "parents": [
          "Houston",
          "Hartley",
          "Brewster",
          "Presidio",
          "Duval",
          "Motley",
          "Gray",
          "Duval",
          "Zavala",
          "Tyler",
          "Duval",
          "Rusk",
          "Dallam",
          "Brewster",
          "Zavala",
          "Tyler",
          "Dallam",
          "Brewster",
          "Webb",
          "Hidalgo",
          "Hidalgo",
          "Hidalgo",
          "Motley",
          "Motley",
          "Shelby",
          "Floyd",
          "Presidio",
          "Rusk",
          "Hartley",
          "Webb",
          "Houston",
          "Pecos",
          "Webb",
          "Presidio",
          "Moore",
          "Moore",
          "Floyd",
          "Tyler",
          "Rusk",
          "Shelby",
          "Hartley",
          "Floyd",
          "Pecos",
          "Pecos",
          "Shelby",
          "Gray",
          "Zavala",
          "Gray",
          "Houston",
          "Moore",
          "Dallam",
          "West",
          "North",
          "South",
          "North",
          "North",
          "North",
          "South",
          "East",
          "North",
          "North",
          "West",
          "West",
          "East",
          "East",
          "East",
          "South",
          "South",
          "total",
          "total",
          "total",
          "total",
          ""
         ],
         "values": [
          42,
          24,
          33,
          40,
          42,
          44,
          49,
          20,
          31,
          30,
          20,
          20,
          20,
          33,
          28,
          21,
          35,
          20,
          20,
          41,
          39,
          21,
          22,
          35,
          45,
          31,
          35,
          40,
          42,
          46,
          22,
          48,
          48,
          45,
          33,
          33,
          44,
          49,
          24,
          29,
          39,
          44,
          30,
          37,
          47,
          31,
          25,
          35,
          38,
          21,
          49,
          86,
          104,
          82,
          119,
          115,
          105,
          101,
          102,
          87,
          101,
          115,
          120,
          84,
          121,
          100,
          114,
          84,
          407,
          631,
          381,
          321,
          1740
         ],
         "type": "sunburst",
         "domain": {
          "x": [
           0.0,
           0.45
          ],
          "y": [
           0.0,
           1.0
          ]
         }
        },
        {
         "branchvalues": "total",
         "hovertemplate": "<b>%{label} </b> <br> Sales: %{value}<br> Success rate: %{color:.2f}",
         "labels": [
          "AX",
          "BI",
          "BS",
          "DQ",
          "DS",
          "EH",
          "ES",
          "FJ",
          "FL",
          "GT",
          "GW",
          "HW",
          "IJ",
          "IK",
          "IV",
          "JC",
          "JE",
          "JF",
          "KR",
          "LQ",
          "LR",
          "LV",
          "MW",
          "NY",
          "NZ",
          "OH",
          "OT",
          "OY",
          "PL",
          "QJ",
          "QK",
          "QM",
          "RR",
          "SV",
          "TW",
          "TZ",
          "UA",
          "UF",
          "UM",
          "VN",
          "WE",
          "WH",
          "WV",
          "WZ",
          "XH",
          "XY",
          "YA",
          "YJ",
          "YN",
          "ZM",
          "ZQ",
          "Brewster",
          "Dallam",
          "Duval",
          "Floyd",
          "Gray",
          "Hartley",
          "Hidalgo",
          "Houston",
          "Moore",
          "Motley",
          "Pecos",
          "Presidio",
          "Rusk",
          "Shelby",
          "Tyler",
          "Webb",
          "Zavala",
          "East",
          "North",
          "South",
          "West",
          "total"
         ],
         "marker": {
          "cmid": 0.5310344827586206,
          "colors": [
           0.21428571428571427,
           0.3333333333333333,
           0.42424242424242425,
           0.375,
           0.21428571428571427,
           0.7727272727272727,
           0.6326530612244898,
           0.35,
           0.7741935483870968,
           0.13333333333333333,
           0.3,
           0.4,
           0.3,
           0.6060606060606061,
           0.7142857142857143,
           0.8095238095238095,
           0.6571428571428571,
           0.4,
           0.3,
           0.3902439024390244,
           0.1794871794871795,
           0.5238095238095238,
           0.9545454545454546,
           0.42857142857142855,
           0.35555555555555557,
           0.1935483870967742,
           0.2571428571428571,
           0.5,
           0.8809523809523809,
           0.8695652173913043,
           0.36363636363636365,
           0.9375,
           0.5416666666666666,
           0.6666666666666666,
           0.18181818181818182,
           0.6060606060606061,
           0.7727272727272727,
           0.7142857142857143,
           0.3333333333333333,
           0.20689655172413793,
           0.9487179487179487,
           0.8409090909090909,
           0.8333333333333334,
           0.6216216216216216,
           0.1276595744680851,
           0.9032258064516129,
           0.84,
           0.37142857142857144,
           0.6052631578947368,
           0.6190476190476191,
           0.2653061224489796,
           0.4883720930232558,
           0.40384615384615385,
           0.2682926829268293,
           0.6470588235294118,
           0.6260869565217392,
           0.780952380952381,
           0.33663366336633666,
           0.39215686274509803,
           0.4482758620689655,
           0.693069306930693,
           0.808695652173913,
           0.45,
           0.42857142857142855,
           0.23140495867768596,
           0.56,
           0.631578947368421,
           0.7738095238095238,
           0.3931203931203931,
           0.6053882725832013,
           0.5065616797900262,
           0.5887850467289719,
           0.5310344827586206
          ],
          "colorscale": [
           [
            0.0,
            "rgb(103,0,31)"
           ],
           [
            0.1,
            "rgb(178,24,43)"
           ],
           [
            0.2,
            "rgb(214,96,77)"
           ],
           [
            0.3,
            "rgb(244,165,130)"
           ],
           [
            0.4,
            "rgb(253,219,199)"
           ],
           [
            0.5,
            "rgb(247,247,247)"
           ],
           [
            0.6,
            "rgb(209,229,240)"
           ],
           [
            0.7,
            "rgb(146,197,222)"
           ],
           [
            0.8,
            "rgb(67,147,195)"
           ],
           [
            0.9,
            "rgb(33,102,172)"
           ],
           [
            1.0,
            "rgb(5,48,97)"
           ]
          ]
         },
         "maxdepth": 2,
         "parents": [
          "Houston",
          "Hartley",
          "Brewster",
          "Presidio",
          "Duval",
          "Motley",
          "Gray",
          "Duval",
          "Zavala",
          "Tyler",
          "Duval",
          "Rusk",
          "Dallam",
          "Brewster",
          "Zavala",
          "Tyler",
          "Dallam",
          "Brewster",
          "Webb",
          "Hidalgo",
          "Hidalgo",
          "Hidalgo",
          "Motley",
          "Motley",
          "Shelby",
          "Floyd",
          "Presidio",
          "Rusk",
          "Hartley",
          "Webb",
          "Houston",
          "Pecos",
          "Webb",
          "Presidio",
          "Moore",
          "Moore",
          "Floyd",
          "Tyler",
          "Rusk",
          "Shelby",
          "Hartley",
          "Floyd",
          "Pecos",
          "Pecos",
          "Shelby",
          "Gray",
          "Zavala",
          "Gray",
          "Houston",
          "Moore",
          "Dallam",
          "West",
          "North",
          "South",
          "North",
          "North",
          "North",
          "South",
          "East",
          "North",
          "North",
          "West",
          "West",
          "East",
          "East",
          "East",
          "South",
          "South",
          "total",
          "total",
          "total",
          "total",
          ""
         ],
         "values": [
          42,
          24,
          33,
          40,
          42,
          44,
          49,
          20,
          31,
          30,
          20,
          20,
          20,
          33,
          28,
          21,
          35,
          20,
          20,
          41,
          39,
          21,
          22,
          35,
          45,
          31,
          35,
          40,
          42,
          46,
          22,
          48,
          48,
          45,
          33,
          33,
          44,
          49,
          24,
          29,
          39,
          44,
          30,
          37,
          47,
          31,
          25,
          35,
          38,
          21,
          49,
          86,
          104,
          82,
          119,
          115,
          105,
          101,
          102,
          87,
          101,
          115,
          120,
          84,
          121,
          100,
          114,
          84,
          407,
          631,
          381,
          321,
          1740
         ],
         "type": "sunburst",
         "domain": {
          "x": [
           0.55,
           1.0
          ],
          "y": [
           0.0,
           1.0
          ]
         }
        }
       ],
       "layout": {
        "template": {
         "data": {
          "histogram2dcontour": [
           {
            "type": "histogram2dcontour",
            "colorbar": {
             "outlinewidth": 0,
             "ticks": ""
            },
            "colorscale": [
             [
              0.0,
              "#0d0887"
             ],
             [
              0.1111111111111111,
              "#46039f"
             ],
             [
              0.2222222222222222,
              "#7201a8"
             ],
             [
              0.3333333333333333,
              "#9c179e"
             ],
             [
              0.4444444444444444,
              "#bd3786"
             ],
             [
              0.5555555555555556,
              "#d8576b"
             ],
             [
              0.6666666666666666,
              "#ed7953"
             ],
             [
              0.7777777777777778,
              "#fb9f3a"
             ],
             [
              0.8888888888888888,
              "#fdca26"
             ],
             [
              1.0,
              "#f0f921"
             ]
            ]
           }
          ],
          "choropleth": [
           {
            "type": "choropleth",
            "colorbar": {
             "outlinewidth": 0,
             "ticks": ""
            }
           }
          ],
          "histogram2d": [
           {
            "type": "histogram2d",
            "colorbar": {
             "outlinewidth": 0,
             "ticks": ""
            },
            "colorscale": [
             [
              0.0,
              "#0d0887"
             ],
             [
              0.1111111111111111,
              "#46039f"
             ],
             [
              0.2222222222222222,
              "#7201a8"
             ],
             [
              0.3333333333333333,
              "#9c179e"
             ],
             [
              0.4444444444444444,
              "#bd3786"
             ],
             [
              0.5555555555555556,
              "#d8576b"
             ],
             [
              0.6666666666666666,
              "#ed7953"
             ],
             [
              0.7777777777777778,
              "#fb9f3a"
             ],
             [
              0.8888888888888888,
              "#fdca26"
             ],
             [
              1.0,
              "#f0f921"
             ]
            ]
           }
          ],
          "heatmap": [
           {
            "type": "heatmap",
            "colorbar": {
             "outlinewidth": 0,
             "ticks": ""
            },
            "colorscale": [
             [
              0.0,
              "#0d0887"
             ],
             [
              0.1111111111111111,
              "#46039f"
             ],
             [
              0.2222222222222222,
              "#7201a8"
             ],
             [
              0.3333333333333333,
              "#9c179e"
             ],
             [
              0.4444444444444444,
              "#bd3786"
             ],
             [
              0.5555555555555556,
              "#d8576b"
             ],
             [
              0.6666666666666666,
              "#ed7953"
             ],
             [
              0.7777777777777778,
              "#fb9f3a"
             ],
             [
              0.8888888888888888,
              "#fdca26"
             ],
             [
              1.0,
              "#f0f921"
             ]
            ]
           }
          ],
          "heatmapgl": [
           {
            "type": "heatmapgl",
            "colorbar": {
             "outlinewidth": 0,
             "ticks": ""
            },
            "colorscale": [
             [
              0.0,
              "#0d0887"
             ],
             [
              0.1111111111111111,
              "#46039f"
             ],
             [
              0.2222222222222222,
              "#7201a8"
             ],
             [
              0.3333333333333333,
              "#9c179e"
             ],
             [
              0.4444444444444444,
              "#bd3786"
             ],
             [
              0.5555555555555556,
              "#d8576b"
             ],
             [
              0.6666666666666666,
              "#ed7953"
             ],
             [
              0.7777777777777778,
              "#fb9f3a"
             ],
             [
              0.8888888888888888,
              "#fdca26"
             ],
             [
              1.0,
              "#f0f921"
             ]
            ]
           }
          ],
          "contourcarpet": [
           {
            "type": "contourcarpet",
            "colorbar": {
             "outlinewidth": 0,
             "ticks": ""
            }
           }
          ],
          "contour": [
           {
            "type": "contour",
            "colorbar": {
             "outlinewidth": 0,
             "ticks": ""
            },
            "colorscale": [
             [
              0.0,
              "#0d0887"
             ],
             [
              0.1111111111111111,
              "#46039f"
             ],
             [
              0.2222222222222222,
              "#7201a8"
             ],
             [
              0.3333333333333333,
              "#9c179e"
             ],
             [
              0.4444444444444444,
              "#bd3786"
             ],
             [
              0.5555555555555556,
              "#d8576b"
             ],
             [
              0.6666666666666666,
              "#ed7953"
             ],
             [
              0.7777777777777778,
              "#fb9f3a"
             ],
             [
              0.8888888888888888,
              "#fdca26"
             ],
             [
              1.0,
              "#f0f921"
             ]
            ]
           }
          ],
          "surface": [
           {
            "type": "surface",
            "colorbar": {
             "outlinewidth": 0,
             "ticks": ""
            },
            "colorscale": [
             [
              0.0,
              "#0d0887"
             ],
             [
              0.1111111111111111,
              "#46039f"
             ],
             [
              0.2222222222222222,
              "#7201a8"
             ],
             [
              0.3333333333333333,
              "#9c179e"
             ],
             [
              0.4444444444444444,
              "#bd3786"
             ],
             [
              0.5555555555555556,
              "#d8576b"
             ],
             [
              0.6666666666666666,
              "#ed7953"
             ],
             [
              0.7777777777777778,
              "#fb9f3a"
             ],
             [
              0.8888888888888888,
              "#fdca26"
             ],
             [
              1.0,
              "#f0f921"
             ]
            ]
           }
          ],
          "mesh3d": [
           {
            "type": "mesh3d",
            "colorbar": {
             "outlinewidth": 0,
             "ticks": ""
            }
           }
          ],
          "scatter": [
           {
            "marker": {
             "line": {
              "color": "#283442"
             }
            },
            "type": "scatter"
           }
          ],
          "parcoords": [
           {
            "type": "parcoords",
            "line": {
             "colorbar": {
              "outlinewidth": 0,
              "ticks": ""
             }
            }
           }
          ],
          "scatterpolargl": [
           {
            "type": "scatterpolargl",
            "marker": {
             "colorbar": {
              "outlinewidth": 0,
              "ticks": ""
             }
            }
           }
          ],
          "bar": [
           {
            "error_x": {
             "color": "#f2f5fa"
            },
            "error_y": {
             "color": "#f2f5fa"
            },
            "marker": {
             "line": {
              "color": "rgb(17,17,17)",
              "width": 0.5
             },
             "pattern": {
              "fillmode": "overlay",
              "size": 10,
              "solidity": 0.2
             }
            },
            "type": "bar"
           }
          ],
          "scattergeo": [
           {
            "type": "scattergeo",
            "marker": {
             "colorbar": {
              "outlinewidth": 0,
              "ticks": ""
             }
            }
           }
          ],
          "scatterpolar": [
           {
            "type": "scatterpolar",
            "marker": {
             "colorbar": {
              "outlinewidth": 0,
              "ticks": ""
             }
            }
           }
          ],
          "histogram": [
           {
            "marker": {
             "pattern": {
              "fillmode": "overlay",
              "size": 10,
              "solidity": 0.2
             }
            },
            "type": "histogram"
           }
          ],
          "scattergl": [
           {
            "marker": {
             "line": {
              "color": "#283442"
             }
            },
            "type": "scattergl"
           }
          ],
          "scatter3d": [
           {
            "type": "scatter3d",
            "line": {
             "colorbar": {
              "outlinewidth": 0,
              "ticks": ""
             }
            },
            "marker": {
             "colorbar": {
              "outlinewidth": 0,
              "ticks": ""
             }
            }
           }
          ],
          "scattermapbox": [
           {
            "type": "scattermapbox",
            "marker": {
             "colorbar": {
              "outlinewidth": 0,
              "ticks": ""
             }
            }
           }
          ],
          "scatterternary": [
           {
            "type": "scatterternary",
            "marker": {
             "colorbar": {
              "outlinewidth": 0,
              "ticks": ""
             }
            }
           }
          ],
          "scattercarpet": [
           {
            "type": "scattercarpet",
            "marker": {
             "colorbar": {
              "outlinewidth": 0,
              "ticks": ""
             }
            }
           }
          ],
          "carpet": [
           {
            "aaxis": {
             "endlinecolor": "#A2B1C6",
             "gridcolor": "#506784",
             "linecolor": "#506784",
             "minorgridcolor": "#506784",
             "startlinecolor": "#A2B1C6"
            },
            "baxis": {
             "endlinecolor": "#A2B1C6",
             "gridcolor": "#506784",
             "linecolor": "#506784",
             "minorgridcolor": "#506784",
             "startlinecolor": "#A2B1C6"
            },
            "type": "carpet"
           }
          ],
          "table": [
           {
            "cells": {
             "fill": {
              "color": "#506784"
             },
             "line": {
              "color": "rgb(17,17,17)"
             }
            },
            "header": {
             "fill": {
              "color": "#2a3f5f"
             },
             "line": {
              "color": "rgb(17,17,17)"
             }
            },
            "type": "table"
           }
          ],
          "barpolar": [
           {
            "marker": {
             "line": {
              "color": "rgb(17,17,17)",
              "width": 0.5
             },
             "pattern": {
              "fillmode": "overlay",
              "size": 10,
              "solidity": 0.2
             }
            },
            "type": "barpolar"
           }
          ],
          "pie": [
           {
            "automargin": true,
            "type": "pie"
           }
          ]
         },
         "layout": {
          "autotypenumbers": "strict",
          "colorway": [
           "#636efa",
           "#EF553B",
           "#00cc96",
           "#ab63fa",
           "#FFA15A",
           "#19d3f3",
           "#FF6692",
           "#B6E880",
           "#FF97FF",
           "#FECB52"
          ],
          "font": {
           "color": "#f2f5fa"
          },
          "hovermode": "closest",
          "hoverlabel": {
           "align": "left"
          },
          "paper_bgcolor": "rgb(17,17,17)",
          "plot_bgcolor": "rgb(17,17,17)",
          "polar": {
           "bgcolor": "rgb(17,17,17)",
           "angularaxis": {
            "gridcolor": "#506784",
            "linecolor": "#506784",
            "ticks": ""
           },
           "radialaxis": {
            "gridcolor": "#506784",
            "linecolor": "#506784",
            "ticks": ""
           }
          },
          "ternary": {
           "bgcolor": "rgb(17,17,17)",
           "aaxis": {
            "gridcolor": "#506784",
            "linecolor": "#506784",
            "ticks": ""
           },
           "baxis": {
            "gridcolor": "#506784",
            "linecolor": "#506784",
            "ticks": ""
           },
           "caxis": {
            "gridcolor": "#506784",
            "linecolor": "#506784",
            "ticks": ""
           }
          },
          "coloraxis": {
           "colorbar": {
            "outlinewidth": 0,
            "ticks": ""
           }
          },
          "colorscale": {
           "sequential": [
            [
             0.0,
             "#0d0887"
            ],
            [
             0.1111111111111111,
             "#46039f"
            ],
            [
             0.2222222222222222,
             "#7201a8"
            ],
            [
             0.3333333333333333,
             "#9c179e"
            ],
            [
             0.4444444444444444,
             "#bd3786"
            ],
            [
             0.5555555555555556,
             "#d8576b"
            ],
            [
             0.6666666666666666,
             "#ed7953"
            ],
            [
             0.7777777777777778,
             "#fb9f3a"
            ],
            [
             0.8888888888888888,
             "#fdca26"
            ],
            [
             1.0,
             "#f0f921"
            ]
           ],
           "sequentialminus": [
            [
             0.0,
             "#0d0887"
            ],
            [
             0.1111111111111111,
             "#46039f"
            ],
            [
             0.2222222222222222,
             "#7201a8"
            ],
            [
             0.3333333333333333,
             "#9c179e"
            ],
            [
             0.4444444444444444,
             "#bd3786"
            ],
            [
             0.5555555555555556,
             "#d8576b"
            ],
            [
             0.6666666666666666,
             "#ed7953"
            ],
            [
             0.7777777777777778,
             "#fb9f3a"
            ],
            [
             0.8888888888888888,
             "#fdca26"
            ],
            [
             1.0,
             "#f0f921"
            ]
           ],
           "diverging": [
            [
             0,
             "#8e0152"
            ],
            [
             0.1,
             "#c51b7d"
            ],
            [
             0.2,
             "#de77ae"
            ],
            [
             0.3,
             "#f1b6da"
            ],
            [
             0.4,
             "#fde0ef"
            ],
            [
             0.5,
             "#f7f7f7"
            ],
            [
             0.6,
             "#e6f5d0"
            ],
            [
             0.7,
             "#b8e186"
            ],
            [
             0.8,
             "#7fbc41"
            ],
            [
             0.9,
             "#4d9221"
            ],
            [
             1,
             "#276419"
            ]
           ]
          },
          "xaxis": {
           "gridcolor": "#283442",
           "linecolor": "#506784",
           "ticks": "",
           "title": {
            "standoff": 15
           },
           "zerolinecolor": "#283442",
           "automargin": true,
           "zerolinewidth": 2
          },
          "yaxis": {
           "gridcolor": "#283442",
           "linecolor": "#506784",
           "ticks": "",
           "title": {
            "standoff": 15
           },
           "zerolinecolor": "#283442",
           "automargin": true,
           "zerolinewidth": 2
          },
          "scene": {
           "xaxis": {
            "backgroundcolor": "rgb(17,17,17)",
            "gridcolor": "#506784",
            "linecolor": "#506784",
            "showbackground": true,
            "ticks": "",
            "zerolinecolor": "#C8D4E3",
            "gridwidth": 2
           },
           "yaxis": {
            "backgroundcolor": "rgb(17,17,17)",
            "gridcolor": "#506784",
            "linecolor": "#506784",
            "showbackground": true,
            "ticks": "",
            "zerolinecolor": "#C8D4E3",
            "gridwidth": 2
           },
           "zaxis": {
            "backgroundcolor": "rgb(17,17,17)",
            "gridcolor": "#506784",
            "linecolor": "#506784",
            "showbackground": true,
            "ticks": "",
            "zerolinecolor": "#C8D4E3",
            "gridwidth": 2
           }
          },
          "shapedefaults": {
           "line": {
            "color": "#f2f5fa"
           }
          },
          "annotationdefaults": {
           "arrowcolor": "#f2f5fa",
           "arrowhead": 0,
           "arrowwidth": 1
          },
          "geo": {
           "bgcolor": "rgb(17,17,17)",
           "landcolor": "rgb(17,17,17)",
           "subunitcolor": "#506784",
           "showland": true,
           "showlakes": true,
           "lakecolor": "rgb(17,17,17)"
          },
          "title": {
           "x": 0.05
          },
          "updatemenudefaults": {
           "bgcolor": "#506784",
           "borderwidth": 0
          },
          "sliderdefaults": {
           "bgcolor": "#C8D4E3",
           "borderwidth": 1,
           "bordercolor": "rgb(17,17,17)",
           "tickwidth": 0
          },
          "mapbox": {
           "style": "dark"
          }
         }
        },
        "margin": {
         "t": 10,
         "b": 10,
         "r": 10,
         "l": 10
        }
       },
       "config": {
        "plotlyServerURL": "https://plot.ly"
       }
      },
      "text/html": "<div>                            <div id=\"64e69bb7-9669-4ad5-b03b-5b4322061c97\" class=\"plotly-graph-div\" style=\"height:525px; width:100%;\"></div>            <script type=\"text/javascript\">                require([\"plotly\"], function(Plotly) {                    window.PLOTLYENV=window.PLOTLYENV || {};                                    if (document.getElementById(\"64e69bb7-9669-4ad5-b03b-5b4322061c97\")) {                    Plotly.newPlot(                        \"64e69bb7-9669-4ad5-b03b-5b4322061c97\",                        [{\"branchvalues\":\"total\",\"hovertemplate\":\"<b>%{label} </b> <br> Sales: %{value}<br> Success rate: %{color:.2f}\",\"labels\":[\"AX\",\"BI\",\"BS\",\"DQ\",\"DS\",\"EH\",\"ES\",\"FJ\",\"FL\",\"GT\",\"GW\",\"HW\",\"IJ\",\"IK\",\"IV\",\"JC\",\"JE\",\"JF\",\"KR\",\"LQ\",\"LR\",\"LV\",\"MW\",\"NY\",\"NZ\",\"OH\",\"OT\",\"OY\",\"PL\",\"QJ\",\"QK\",\"QM\",\"RR\",\"SV\",\"TW\",\"TZ\",\"UA\",\"UF\",\"UM\",\"VN\",\"WE\",\"WH\",\"WV\",\"WZ\",\"XH\",\"XY\",\"YA\",\"YJ\",\"YN\",\"ZM\",\"ZQ\",\"Brewster\",\"Dallam\",\"Duval\",\"Floyd\",\"Gray\",\"Hartley\",\"Hidalgo\",\"Houston\",\"Moore\",\"Motley\",\"Pecos\",\"Presidio\",\"Rusk\",\"Shelby\",\"Tyler\",\"Webb\",\"Zavala\",\"East\",\"North\",\"South\",\"West\",\"total\"],\"marker\":{\"cmid\":0.5310344827586206,\"colors\":[0.21428571428571427,0.3333333333333333,0.42424242424242425,0.375,0.21428571428571427,0.7727272727272727,0.6326530612244898,0.35,0.7741935483870968,0.13333333333333333,0.3,0.4,0.3,0.6060606060606061,0.7142857142857143,0.8095238095238095,0.6571428571428571,0.4,0.3,0.3902439024390244,0.1794871794871795,0.5238095238095238,0.9545454545454546,0.42857142857142855,0.35555555555555557,0.1935483870967742,0.2571428571428571,0.5,0.8809523809523809,0.8695652173913043,0.36363636363636365,0.9375,0.5416666666666666,0.6666666666666666,0.18181818181818182,0.6060606060606061,0.7727272727272727,0.7142857142857143,0.3333333333333333,0.20689655172413793,0.9487179487179487,0.8409090909090909,0.8333333333333334,0.6216216216216216,0.1276595744680851,0.9032258064516129,0.84,0.37142857142857144,0.6052631578947368,0.6190476190476191,0.2653061224489796,0.4883720930232558,0.40384615384615385,0.2682926829268293,0.6470588235294118,0.6260869565217392,0.780952380952381,0.33663366336633666,0.39215686274509803,0.4482758620689655,0.693069306930693,0.808695652173913,0.45,0.42857142857142855,0.23140495867768596,0.56,0.631578947368421,0.7738095238095238,0.3931203931203931,0.6053882725832013,0.5065616797900262,0.5887850467289719,0.5310344827586206],\"colorscale\":[[0.0,\"rgb(103,0,31)\"],[0.1,\"rgb(178,24,43)\"],[0.2,\"rgb(214,96,77)\"],[0.3,\"rgb(244,165,130)\"],[0.4,\"rgb(253,219,199)\"],[0.5,\"rgb(247,247,247)\"],[0.6,\"rgb(209,229,240)\"],[0.7,\"rgb(146,197,222)\"],[0.8,\"rgb(67,147,195)\"],[0.9,\"rgb(33,102,172)\"],[1.0,\"rgb(5,48,97)\"]]},\"name\":\"\",\"parents\":[\"Houston\",\"Hartley\",\"Brewster\",\"Presidio\",\"Duval\",\"Motley\",\"Gray\",\"Duval\",\"Zavala\",\"Tyler\",\"Duval\",\"Rusk\",\"Dallam\",\"Brewster\",\"Zavala\",\"Tyler\",\"Dallam\",\"Brewster\",\"Webb\",\"Hidalgo\",\"Hidalgo\",\"Hidalgo\",\"Motley\",\"Motley\",\"Shelby\",\"Floyd\",\"Presidio\",\"Rusk\",\"Hartley\",\"Webb\",\"Houston\",\"Pecos\",\"Webb\",\"Presidio\",\"Moore\",\"Moore\",\"Floyd\",\"Tyler\",\"Rusk\",\"Shelby\",\"Hartley\",\"Floyd\",\"Pecos\",\"Pecos\",\"Shelby\",\"Gray\",\"Zavala\",\"Gray\",\"Houston\",\"Moore\",\"Dallam\",\"West\",\"North\",\"South\",\"North\",\"North\",\"North\",\"South\",\"East\",\"North\",\"North\",\"West\",\"West\",\"East\",\"East\",\"East\",\"South\",\"South\",\"total\",\"total\",\"total\",\"total\",\"\"],\"values\":[42,24,33,40,42,44,49,20,31,30,20,20,20,33,28,21,35,20,20,41,39,21,22,35,45,31,35,40,42,46,22,48,48,45,33,33,44,49,24,29,39,44,30,37,47,31,25,35,38,21,49,86,104,82,119,115,105,101,102,87,101,115,120,84,121,100,114,84,407,631,381,321,1740],\"type\":\"sunburst\",\"domain\":{\"x\":[0.0,0.45],\"y\":[0.0,1.0]}},{\"branchvalues\":\"total\",\"hovertemplate\":\"<b>%{label} </b> <br> Sales: %{value}<br> Success rate: %{color:.2f}\",\"labels\":[\"AX\",\"BI\",\"BS\",\"DQ\",\"DS\",\"EH\",\"ES\",\"FJ\",\"FL\",\"GT\",\"GW\",\"HW\",\"IJ\",\"IK\",\"IV\",\"JC\",\"JE\",\"JF\",\"KR\",\"LQ\",\"LR\",\"LV\",\"MW\",\"NY\",\"NZ\",\"OH\",\"OT\",\"OY\",\"PL\",\"QJ\",\"QK\",\"QM\",\"RR\",\"SV\",\"TW\",\"TZ\",\"UA\",\"UF\",\"UM\",\"VN\",\"WE\",\"WH\",\"WV\",\"WZ\",\"XH\",\"XY\",\"YA\",\"YJ\",\"YN\",\"ZM\",\"ZQ\",\"Brewster\",\"Dallam\",\"Duval\",\"Floyd\",\"Gray\",\"Hartley\",\"Hidalgo\",\"Houston\",\"Moore\",\"Motley\",\"Pecos\",\"Presidio\",\"Rusk\",\"Shelby\",\"Tyler\",\"Webb\",\"Zavala\",\"East\",\"North\",\"South\",\"West\",\"total\"],\"marker\":{\"cmid\":0.5310344827586206,\"colors\":[0.21428571428571427,0.3333333333333333,0.42424242424242425,0.375,0.21428571428571427,0.7727272727272727,0.6326530612244898,0.35,0.7741935483870968,0.13333333333333333,0.3,0.4,0.3,0.6060606060606061,0.7142857142857143,0.8095238095238095,0.6571428571428571,0.4,0.3,0.3902439024390244,0.1794871794871795,0.5238095238095238,0.9545454545454546,0.42857142857142855,0.35555555555555557,0.1935483870967742,0.2571428571428571,0.5,0.8809523809523809,0.8695652173913043,0.36363636363636365,0.9375,0.5416666666666666,0.6666666666666666,0.18181818181818182,0.6060606060606061,0.7727272727272727,0.7142857142857143,0.3333333333333333,0.20689655172413793,0.9487179487179487,0.8409090909090909,0.8333333333333334,0.6216216216216216,0.1276595744680851,0.9032258064516129,0.84,0.37142857142857144,0.6052631578947368,0.6190476190476191,0.2653061224489796,0.4883720930232558,0.40384615384615385,0.2682926829268293,0.6470588235294118,0.6260869565217392,0.780952380952381,0.33663366336633666,0.39215686274509803,0.4482758620689655,0.693069306930693,0.808695652173913,0.45,0.42857142857142855,0.23140495867768596,0.56,0.631578947368421,0.7738095238095238,0.3931203931203931,0.6053882725832013,0.5065616797900262,0.5887850467289719,0.5310344827586206],\"colorscale\":[[0.0,\"rgb(103,0,31)\"],[0.1,\"rgb(178,24,43)\"],[0.2,\"rgb(214,96,77)\"],[0.3,\"rgb(244,165,130)\"],[0.4,\"rgb(253,219,199)\"],[0.5,\"rgb(247,247,247)\"],[0.6,\"rgb(209,229,240)\"],[0.7,\"rgb(146,197,222)\"],[0.8,\"rgb(67,147,195)\"],[0.9,\"rgb(33,102,172)\"],[1.0,\"rgb(5,48,97)\"]]},\"maxdepth\":2,\"parents\":[\"Houston\",\"Hartley\",\"Brewster\",\"Presidio\",\"Duval\",\"Motley\",\"Gray\",\"Duval\",\"Zavala\",\"Tyler\",\"Duval\",\"Rusk\",\"Dallam\",\"Brewster\",\"Zavala\",\"Tyler\",\"Dallam\",\"Brewster\",\"Webb\",\"Hidalgo\",\"Hidalgo\",\"Hidalgo\",\"Motley\",\"Motley\",\"Shelby\",\"Floyd\",\"Presidio\",\"Rusk\",\"Hartley\",\"Webb\",\"Houston\",\"Pecos\",\"Webb\",\"Presidio\",\"Moore\",\"Moore\",\"Floyd\",\"Tyler\",\"Rusk\",\"Shelby\",\"Hartley\",\"Floyd\",\"Pecos\",\"Pecos\",\"Shelby\",\"Gray\",\"Zavala\",\"Gray\",\"Houston\",\"Moore\",\"Dallam\",\"West\",\"North\",\"South\",\"North\",\"North\",\"North\",\"South\",\"East\",\"North\",\"North\",\"West\",\"West\",\"East\",\"East\",\"East\",\"South\",\"South\",\"total\",\"total\",\"total\",\"total\",\"\"],\"values\":[42,24,33,40,42,44,49,20,31,30,20,20,20,33,28,21,35,20,20,41,39,21,22,35,45,31,35,40,42,46,22,48,48,45,33,33,44,49,24,29,39,44,30,37,47,31,25,35,38,21,49,86,104,82,119,115,105,101,102,87,101,115,120,84,121,100,114,84,407,631,381,321,1740],\"type\":\"sunburst\",\"domain\":{\"x\":[0.55,1.0],\"y\":[0.0,1.0]}}],                        {\"template\":{\"data\":{\"histogram2dcontour\":[{\"type\":\"histogram2dcontour\",\"colorbar\":{\"outlinewidth\":0,\"ticks\":\"\"},\"colorscale\":[[0.0,\"#0d0887\"],[0.1111111111111111,\"#46039f\"],[0.2222222222222222,\"#7201a8\"],[0.3333333333333333,\"#9c179e\"],[0.4444444444444444,\"#bd3786\"],[0.5555555555555556,\"#d8576b\"],[0.6666666666666666,\"#ed7953\"],[0.7777777777777778,\"#fb9f3a\"],[0.8888888888888888,\"#fdca26\"],[1.0,\"#f0f921\"]]}],\"choropleth\":[{\"type\":\"choropleth\",\"colorbar\":{\"outlinewidth\":0,\"ticks\":\"\"}}],\"histogram2d\":[{\"type\":\"histogram2d\",\"colorbar\":{\"outlinewidth\":0,\"ticks\":\"\"},\"colorscale\":[[0.0,\"#0d0887\"],[0.1111111111111111,\"#46039f\"],[0.2222222222222222,\"#7201a8\"],[0.3333333333333333,\"#9c179e\"],[0.4444444444444444,\"#bd3786\"],[0.5555555555555556,\"#d8576b\"],[0.6666666666666666,\"#ed7953\"],[0.7777777777777778,\"#fb9f3a\"],[0.8888888888888888,\"#fdca26\"],[1.0,\"#f0f921\"]]}],\"heatmap\":[{\"type\":\"heatmap\",\"colorbar\":{\"outlinewidth\":0,\"ticks\":\"\"},\"colorscale\":[[0.0,\"#0d0887\"],[0.1111111111111111,\"#46039f\"],[0.2222222222222222,\"#7201a8\"],[0.3333333333333333,\"#9c179e\"],[0.4444444444444444,\"#bd3786\"],[0.5555555555555556,\"#d8576b\"],[0.6666666666666666,\"#ed7953\"],[0.7777777777777778,\"#fb9f3a\"],[0.8888888888888888,\"#fdca26\"],[1.0,\"#f0f921\"]]}],\"heatmapgl\":[{\"type\":\"heatmapgl\",\"colorbar\":{\"outlinewidth\":0,\"ticks\":\"\"},\"colorscale\":[[0.0,\"#0d0887\"],[0.1111111111111111,\"#46039f\"],[0.2222222222222222,\"#7201a8\"],[0.3333333333333333,\"#9c179e\"],[0.4444444444444444,\"#bd3786\"],[0.5555555555555556,\"#d8576b\"],[0.6666666666666666,\"#ed7953\"],[0.7777777777777778,\"#fb9f3a\"],[0.8888888888888888,\"#fdca26\"],[1.0,\"#f0f921\"]]}],\"contourcarpet\":[{\"type\":\"contourcarpet\",\"colorbar\":{\"outlinewidth\":0,\"ticks\":\"\"}}],\"contour\":[{\"type\":\"contour\",\"colorbar\":{\"outlinewidth\":0,\"ticks\":\"\"},\"colorscale\":[[0.0,\"#0d0887\"],[0.1111111111111111,\"#46039f\"],[0.2222222222222222,\"#7201a8\"],[0.3333333333333333,\"#9c179e\"],[0.4444444444444444,\"#bd3786\"],[0.5555555555555556,\"#d8576b\"],[0.6666666666666666,\"#ed7953\"],[0.7777777777777778,\"#fb9f3a\"],[0.8888888888888888,\"#fdca26\"],[1.0,\"#f0f921\"]]}],\"surface\":[{\"type\":\"surface\",\"colorbar\":{\"outlinewidth\":0,\"ticks\":\"\"},\"colorscale\":[[0.0,\"#0d0887\"],[0.1111111111111111,\"#46039f\"],[0.2222222222222222,\"#7201a8\"],[0.3333333333333333,\"#9c179e\"],[0.4444444444444444,\"#bd3786\"],[0.5555555555555556,\"#d8576b\"],[0.6666666666666666,\"#ed7953\"],[0.7777777777777778,\"#fb9f3a\"],[0.8888888888888888,\"#fdca26\"],[1.0,\"#f0f921\"]]}],\"mesh3d\":[{\"type\":\"mesh3d\",\"colorbar\":{\"outlinewidth\":0,\"ticks\":\"\"}}],\"scatter\":[{\"marker\":{\"line\":{\"color\":\"#283442\"}},\"type\":\"scatter\"}],\"parcoords\":[{\"type\":\"parcoords\",\"line\":{\"colorbar\":{\"outlinewidth\":0,\"ticks\":\"\"}}}],\"scatterpolargl\":[{\"type\":\"scatterpolargl\",\"marker\":{\"colorbar\":{\"outlinewidth\":0,\"ticks\":\"\"}}}],\"bar\":[{\"error_x\":{\"color\":\"#f2f5fa\"},\"error_y\":{\"color\":\"#f2f5fa\"},\"marker\":{\"line\":{\"color\":\"rgb(17,17,17)\",\"width\":0.5},\"pattern\":{\"fillmode\":\"overlay\",\"size\":10,\"solidity\":0.2}},\"type\":\"bar\"}],\"scattergeo\":[{\"type\":\"scattergeo\",\"marker\":{\"colorbar\":{\"outlinewidth\":0,\"ticks\":\"\"}}}],\"scatterpolar\":[{\"type\":\"scatterpolar\",\"marker\":{\"colorbar\":{\"outlinewidth\":0,\"ticks\":\"\"}}}],\"histogram\":[{\"marker\":{\"pattern\":{\"fillmode\":\"overlay\",\"size\":10,\"solidity\":0.2}},\"type\":\"histogram\"}],\"scattergl\":[{\"marker\":{\"line\":{\"color\":\"#283442\"}},\"type\":\"scattergl\"}],\"scatter3d\":[{\"type\":\"scatter3d\",\"line\":{\"colorbar\":{\"outlinewidth\":0,\"ticks\":\"\"}},\"marker\":{\"colorbar\":{\"outlinewidth\":0,\"ticks\":\"\"}}}],\"scattermapbox\":[{\"type\":\"scattermapbox\",\"marker\":{\"colorbar\":{\"outlinewidth\":0,\"ticks\":\"\"}}}],\"scatterternary\":[{\"type\":\"scatterternary\",\"marker\":{\"colorbar\":{\"outlinewidth\":0,\"ticks\":\"\"}}}],\"scattercarpet\":[{\"type\":\"scattercarpet\",\"marker\":{\"colorbar\":{\"outlinewidth\":0,\"ticks\":\"\"}}}],\"carpet\":[{\"aaxis\":{\"endlinecolor\":\"#A2B1C6\",\"gridcolor\":\"#506784\",\"linecolor\":\"#506784\",\"minorgridcolor\":\"#506784\",\"startlinecolor\":\"#A2B1C6\"},\"baxis\":{\"endlinecolor\":\"#A2B1C6\",\"gridcolor\":\"#506784\",\"linecolor\":\"#506784\",\"minorgridcolor\":\"#506784\",\"startlinecolor\":\"#A2B1C6\"},\"type\":\"carpet\"}],\"table\":[{\"cells\":{\"fill\":{\"color\":\"#506784\"},\"line\":{\"color\":\"rgb(17,17,17)\"}},\"header\":{\"fill\":{\"color\":\"#2a3f5f\"},\"line\":{\"color\":\"rgb(17,17,17)\"}},\"type\":\"table\"}],\"barpolar\":[{\"marker\":{\"line\":{\"color\":\"rgb(17,17,17)\",\"width\":0.5},\"pattern\":{\"fillmode\":\"overlay\",\"size\":10,\"solidity\":0.2}},\"type\":\"barpolar\"}],\"pie\":[{\"automargin\":true,\"type\":\"pie\"}]},\"layout\":{\"autotypenumbers\":\"strict\",\"colorway\":[\"#636efa\",\"#EF553B\",\"#00cc96\",\"#ab63fa\",\"#FFA15A\",\"#19d3f3\",\"#FF6692\",\"#B6E880\",\"#FF97FF\",\"#FECB52\"],\"font\":{\"color\":\"#f2f5fa\"},\"hovermode\":\"closest\",\"hoverlabel\":{\"align\":\"left\"},\"paper_bgcolor\":\"rgb(17,17,17)\",\"plot_bgcolor\":\"rgb(17,17,17)\",\"polar\":{\"bgcolor\":\"rgb(17,17,17)\",\"angularaxis\":{\"gridcolor\":\"#506784\",\"linecolor\":\"#506784\",\"ticks\":\"\"},\"radialaxis\":{\"gridcolor\":\"#506784\",\"linecolor\":\"#506784\",\"ticks\":\"\"}},\"ternary\":{\"bgcolor\":\"rgb(17,17,17)\",\"aaxis\":{\"gridcolor\":\"#506784\",\"linecolor\":\"#506784\",\"ticks\":\"\"},\"baxis\":{\"gridcolor\":\"#506784\",\"linecolor\":\"#506784\",\"ticks\":\"\"},\"caxis\":{\"gridcolor\":\"#506784\",\"linecolor\":\"#506784\",\"ticks\":\"\"}},\"coloraxis\":{\"colorbar\":{\"outlinewidth\":0,\"ticks\":\"\"}},\"colorscale\":{\"sequential\":[[0.0,\"#0d0887\"],[0.1111111111111111,\"#46039f\"],[0.2222222222222222,\"#7201a8\"],[0.3333333333333333,\"#9c179e\"],[0.4444444444444444,\"#bd3786\"],[0.5555555555555556,\"#d8576b\"],[0.6666666666666666,\"#ed7953\"],[0.7777777777777778,\"#fb9f3a\"],[0.8888888888888888,\"#fdca26\"],[1.0,\"#f0f921\"]],\"sequentialminus\":[[0.0,\"#0d0887\"],[0.1111111111111111,\"#46039f\"],[0.2222222222222222,\"#7201a8\"],[0.3333333333333333,\"#9c179e\"],[0.4444444444444444,\"#bd3786\"],[0.5555555555555556,\"#d8576b\"],[0.6666666666666666,\"#ed7953\"],[0.7777777777777778,\"#fb9f3a\"],[0.8888888888888888,\"#fdca26\"],[1.0,\"#f0f921\"]],\"diverging\":[[0,\"#8e0152\"],[0.1,\"#c51b7d\"],[0.2,\"#de77ae\"],[0.3,\"#f1b6da\"],[0.4,\"#fde0ef\"],[0.5,\"#f7f7f7\"],[0.6,\"#e6f5d0\"],[0.7,\"#b8e186\"],[0.8,\"#7fbc41\"],[0.9,\"#4d9221\"],[1,\"#276419\"]]},\"xaxis\":{\"gridcolor\":\"#283442\",\"linecolor\":\"#506784\",\"ticks\":\"\",\"title\":{\"standoff\":15},\"zerolinecolor\":\"#283442\",\"automargin\":true,\"zerolinewidth\":2},\"yaxis\":{\"gridcolor\":\"#283442\",\"linecolor\":\"#506784\",\"ticks\":\"\",\"title\":{\"standoff\":15},\"zerolinecolor\":\"#283442\",\"automargin\":true,\"zerolinewidth\":2},\"scene\":{\"xaxis\":{\"backgroundcolor\":\"rgb(17,17,17)\",\"gridcolor\":\"#506784\",\"linecolor\":\"#506784\",\"showbackground\":true,\"ticks\":\"\",\"zerolinecolor\":\"#C8D4E3\",\"gridwidth\":2},\"yaxis\":{\"backgroundcolor\":\"rgb(17,17,17)\",\"gridcolor\":\"#506784\",\"linecolor\":\"#506784\",\"showbackground\":true,\"ticks\":\"\",\"zerolinecolor\":\"#C8D4E3\",\"gridwidth\":2},\"zaxis\":{\"backgroundcolor\":\"rgb(17,17,17)\",\"gridcolor\":\"#506784\",\"linecolor\":\"#506784\",\"showbackground\":true,\"ticks\":\"\",\"zerolinecolor\":\"#C8D4E3\",\"gridwidth\":2}},\"shapedefaults\":{\"line\":{\"color\":\"#f2f5fa\"}},\"annotationdefaults\":{\"arrowcolor\":\"#f2f5fa\",\"arrowhead\":0,\"arrowwidth\":1},\"geo\":{\"bgcolor\":\"rgb(17,17,17)\",\"landcolor\":\"rgb(17,17,17)\",\"subunitcolor\":\"#506784\",\"showland\":true,\"showlakes\":true,\"lakecolor\":\"rgb(17,17,17)\"},\"title\":{\"x\":0.05},\"updatemenudefaults\":{\"bgcolor\":\"#506784\",\"borderwidth\":0},\"sliderdefaults\":{\"bgcolor\":\"#C8D4E3\",\"borderwidth\":1,\"bordercolor\":\"rgb(17,17,17)\",\"tickwidth\":0},\"mapbox\":{\"style\":\"dark\"}}},\"margin\":{\"t\":10,\"b\":10,\"r\":10,\"l\":10}},                        {\"responsive\": true}                    ).then(function(){\n                            \nvar gd = document.getElementById('64e69bb7-9669-4ad5-b03b-5b4322061c97');\nvar x = new MutationObserver(function (mutations, observer) {{\n        var display = window.getComputedStyle(gd).display;\n        if (!display || display === 'none') {{\n            console.log([gd, 'removed!']);\n            Plotly.purge(gd);\n            observer.disconnect();\n        }}\n}});\n\n// Listen for the removal of the full notebook cells\nvar notebookContainer = gd.closest('#notebook-container');\nif (notebookContainer) {{\n    x.observe(notebookContainer, {childList: true});\n}}\n\n// Listen for the clearing of the current output cell\nvar outputEl = gd.closest('.output');\nif (outputEl) {{\n    x.observe(outputEl, {childList: true});\n}}\n\n                        })                };                });            </script>        </div>"
     },
     "metadata": {},
     "output_type": "display_data"
    }
   ],
   "source": [
    "fig = make_subplots(1, 2, specs=[[{\"type\": \"domain\"}, {\"type\": \"domain\"}]],)\n",
    "\n",
    "fig.add_trace(go.Sunburst(\n",
    "    labels=df_all_trees['id'],\n",
    "    parents=df_all_trees['parent'],\n",
    "    values=df_all_trees['value'],\n",
    "    branchvalues='total',\n",
    "    marker=dict(\n",
    "        colors=df_all_trees['color'],\n",
    "        colorscale='RdBu',\n",
    "        cmid=average_score),\n",
    "    hovertemplate='<b>%{label} </b> <br> Sales: %{value}<br> Success rate: %{color:.2f}',\n",
    "    name=''\n",
    "    ), 1, 1)\n",
    "\n",
    "fig.add_trace(go.Sunburst(\n",
    "    labels=df_all_trees['id'],\n",
    "    parents=df_all_trees['parent'],\n",
    "    values=df_all_trees['value'],\n",
    "    branchvalues='total',\n",
    "    marker=dict(\n",
    "        colors=df_all_trees['color'],\n",
    "        colorscale='RdBu',\n",
    "        cmid=average_score),\n",
    "    hovertemplate='<b>%{label} </b> <br> Sales: %{value}<br> Success rate: %{color:.2f}',\n",
    "    maxdepth=2\n",
    "    ), 1, 2)\n",
    "\n",
    "fig.update_layout(margin=dict(t=10, b=10, r=10, l=10))\n",
    "fig.show()\n"
   ],
   "metadata": {
    "collapsed": false
   }
  },
  {
   "cell_type": "code",
   "execution_count": null,
   "outputs": [],
   "source": [],
   "metadata": {
    "collapsed": false
   }
  }
 ],
 "metadata": {
  "kernelspec": {
   "display_name": "Python 3",
   "language": "python",
   "name": "python3"
  },
  "language_info": {
   "codemirror_mode": {
    "name": "ipython",
    "version": 2
   },
   "file_extension": ".py",
   "mimetype": "text/x-python",
   "name": "python",
   "nbconvert_exporter": "python",
   "pygments_lexer": "ipython2",
   "version": "2.7.6"
  }
 },
 "nbformat": 4,
 "nbformat_minor": 0
}
