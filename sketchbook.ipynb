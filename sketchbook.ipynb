{
 "cells": [
  {
   "cell_type": "code",
   "execution_count": 7,
   "outputs": [],
   "source": [
    "import pandas as pd\n",
    "from datetime import datetime"
   ],
   "metadata": {
    "collapsed": false
   }
  },
  {
   "cell_type": "code",
   "execution_count": 9,
   "outputs": [],
   "source": [
    "today = datetime.today()\n",
    "cur_year = today.year\n",
    "\n",
    "def days_since(strin):\n",
    "    try:\n",
    "        date = datetime.strptime(strin, '%m/%d/%y')\n",
    "        delta = today - date\n",
    "        # If %y < 70, strptime defaults to 2000s. check for 1916-60s.\n",
    "        # count on nothing being unchecked for 100 years. I checked; seems true\n",
    "        days = int(delta.days)\n",
    "        if days < 0:\n",
    "            days += 36500  # 100 years\n",
    "        return days\n",
    "    except ValueError:\n",
    "        try:\n",
    "            date = datetime.strptime(strin, '%Y-%m')  # full year specified\n",
    "            delta = today - date\n",
    "            return delta.days\n",
    "        except:\n",
    "            pass\n",
    "\n",
    "\n",
    "def to_bool(label):\n",
    "    return bool(label)"
   ],
   "metadata": {
    "collapsed": false
   }
  },
  {
   "cell_type": "code",
   "execution_count": 24,
   "outputs": [],
   "source": [
    "csv_pddf = pd.read_csv('dashboard_012923.csv',\n",
    "                       header=0,\n",
    "                       names=['Bed', 'Label', 'Geo?', 'Days Since Sighted', 'Taxon'],\n",
    "                       converters={'Geo?': to_bool,\n",
    "                                   'Label': to_bool,\n",
    "                                   'Days Since Sighted': days_since\n",
    "                                   },\n",
    "                       dtype={'Bed': 'category',\n",
    "                              'Status': 'category',\n",
    "                              }\n",
    "                       )"
   ],
   "metadata": {
    "collapsed": false
   }
  },
  {
   "cell_type": "code",
   "execution_count": 25,
   "outputs": [
    {
     "data": {
      "text/plain": "     Bed  Label   Geo?  Days Since Sighted                           Taxon\n0  1e+01  False  False                6474                    Quercus ilex\n1  1e+01  False  False                6474  Fagus sylvatica 'Asplenifolia'\n2  1e+01  False  False                6215             Hypericum calycinum\n3  1e+01  False  False                6470               Quercus palustris\n4  1e+01   True  False                 507        Prunus 'Pink Perfection'",
      "text/html": "<div>\n<style scoped>\n    .dataframe tbody tr th:only-of-type {\n        vertical-align: middle;\n    }\n\n    .dataframe tbody tr th {\n        vertical-align: top;\n    }\n\n    .dataframe thead th {\n        text-align: right;\n    }\n</style>\n<table border=\"1\" class=\"dataframe\">\n  <thead>\n    <tr style=\"text-align: right;\">\n      <th></th>\n      <th>Bed</th>\n      <th>Label</th>\n      <th>Geo?</th>\n      <th>Days Since Sighted</th>\n      <th>Taxon</th>\n    </tr>\n  </thead>\n  <tbody>\n    <tr>\n      <th>0</th>\n      <td>1e+01</td>\n      <td>False</td>\n      <td>False</td>\n      <td>6474</td>\n      <td>Quercus ilex</td>\n    </tr>\n    <tr>\n      <th>1</th>\n      <td>1e+01</td>\n      <td>False</td>\n      <td>False</td>\n      <td>6474</td>\n      <td>Fagus sylvatica 'Asplenifolia'</td>\n    </tr>\n    <tr>\n      <th>2</th>\n      <td>1e+01</td>\n      <td>False</td>\n      <td>False</td>\n      <td>6215</td>\n      <td>Hypericum calycinum</td>\n    </tr>\n    <tr>\n      <th>3</th>\n      <td>1e+01</td>\n      <td>False</td>\n      <td>False</td>\n      <td>6470</td>\n      <td>Quercus palustris</td>\n    </tr>\n    <tr>\n      <th>4</th>\n      <td>1e+01</td>\n      <td>True</td>\n      <td>False</td>\n      <td>507</td>\n      <td>Prunus 'Pink Perfection'</td>\n    </tr>\n  </tbody>\n</table>\n</div>"
     },
     "execution_count": 25,
     "metadata": {},
     "output_type": "execute_result"
    }
   ],
   "source": [
    "csv_pddf.head()"
   ],
   "metadata": {
    "collapsed": false
   }
  },
  {
   "cell_type": "code",
   "execution_count": null,
   "outputs": [],
   "source": [],
   "metadata": {
    "collapsed": false
   }
  }
 ],
 "metadata": {
  "kernelspec": {
   "display_name": "Python 3",
   "language": "python",
   "name": "python3"
  },
  "language_info": {
   "codemirror_mode": {
    "name": "ipython",
    "version": 2
   },
   "file_extension": ".py",
   "mimetype": "text/x-python",
   "name": "python",
   "nbconvert_exporter": "python",
   "pygments_lexer": "ipython2",
   "version": "2.7.6"
  }
 },
 "nbformat": 4,
 "nbformat_minor": 0
}
