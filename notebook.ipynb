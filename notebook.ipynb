{
 "cells": [
  {
   "cell_type": "code",
   "execution_count": 5,
   "metadata": {
    "collapsed": true
   },
   "outputs": [],
   "source": [
    "import functools\n",
    "import time\n",
    "import plotly.express as px\n",
    "import plotly.graph_objects as go\n",
    "from datetime import datetime\n",
    "import numpy as np\n",
    "import pandas as pd"
   ]
  },
  {
   "cell_type": "code",
   "execution_count": 42,
   "outputs": [
    {
     "name": "stdout",
     "output_type": "stream",
     "text": [
      "Time taken to parse csv df into plottable df: 0.456980.\n",
      "Memory used: \n",
      " Index                      128\n",
      "Bed                      19737\n",
      "Species Count              648\n",
      "Item Count                 648\n",
      "Label Stats                324\n",
      "Geo-record Stats           324\n",
      "Days since sightings    158768\n",
      "dtype: int64.\n"
     ]
    }
   ],
   "source": [
    "from parse_data import make_df\n",
    "df = make_df('')"
   ],
   "metadata": {
    "collapsed": false
   }
  },
  {
   "cell_type": "markdown",
   "source": [
    "---\n",
    "# Beds with number names"
   ],
   "metadata": {
    "collapsed": false
   }
  },
  {
   "cell_type": "code",
   "execution_count": 65,
   "outputs": [
    {
     "name": "stdout",
     "output_type": "stream",
     "text": [
      "Bed name is 1.00e+02 of type <class 'str'>.\n",
      "Bed name is 1.00e+01 of type <class 'str'>.\n"
     ]
    },
    {
     "data": {
      "text/plain": "          Bed  Species Count  Item Count  Label Stats  Geo-record Stats  \\\n177  1.00e+02              2           3          100                 0   \n193  1.00e+01              5           7           42                 0   \n\n                        Days since sightings  \n177                          [486, 486, 486]  \n193  [6453, 6453, 6194, 6449, 486, 486, 486]  ",
      "text/html": "<div>\n<style scoped>\n    .dataframe tbody tr th:only-of-type {\n        vertical-align: middle;\n    }\n\n    .dataframe tbody tr th {\n        vertical-align: top;\n    }\n\n    .dataframe thead th {\n        text-align: right;\n    }\n</style>\n<table border=\"1\" class=\"dataframe\">\n  <thead>\n    <tr style=\"text-align: right;\">\n      <th></th>\n      <th>Bed</th>\n      <th>Species Count</th>\n      <th>Item Count</th>\n      <th>Label Stats</th>\n      <th>Geo-record Stats</th>\n      <th>Days since sightings</th>\n    </tr>\n  </thead>\n  <tbody>\n    <tr>\n      <th>177</th>\n      <td>1.00e+02</td>\n      <td>2</td>\n      <td>3</td>\n      <td>100</td>\n      <td>0</td>\n      <td>[486, 486, 486]</td>\n    </tr>\n    <tr>\n      <th>193</th>\n      <td>1.00e+01</td>\n      <td>5</td>\n      <td>7</td>\n      <td>42</td>\n      <td>0</td>\n      <td>[6453, 6453, 6194, 6449, 486, 486, 486]</td>\n    </tr>\n  </tbody>\n</table>\n</div>"
     },
     "execution_count": 65,
     "metadata": {},
     "output_type": "execute_result"
    }
   ],
   "source": [
    "# number of rows in df\n",
    "length = len(df.index)\n",
    "\n",
    "# create uninitialized np array of booleans with length equal to number of df rows\n",
    "mask = np.empty(shape=length,dtype=bool)\n",
    "\n",
    "# turn into mask\n",
    "for i in range(length):\n",
    "    bed = df.iloc[i,0]\n",
    "    if len(bed) > 4:\n",
    "        print(f'Bed name is {bed} of type {type(bed)}.')\n",
    "        np.put(mask,i,True)\n",
    "    else:\n",
    "        np.put(mask,i,False)\n",
    "\n",
    "df.loc[mask]"
   ],
   "metadata": {
    "collapsed": false
   }
  },
  {
   "cell_type": "markdown",
   "source": [
    "---\n",
    "# Nursery, Herbarium, Nitobe, Garden Components"
   ],
   "metadata": {
    "collapsed": false
   }
  },
  {
   "cell_type": "code",
   "execution_count": 66,
   "outputs": [
    {
     "data": {
      "text/plain": "     Bed  Species Count  Item Count  Label Stats  Geo-record Stats  \\\n50   LFE             34          36          100                11   \n59   LAM            169         231           99                 3   \n79    1J             53          99           61                 7   \n164    5             10          11           27                 0   \n180   1D             22          22            0                 4   \n216   1R              6           6           33                 0   \n235   5C             28          30            0                 0   \n237   5B             17          17            0                 0   \n238   5A             73          76            0                 0   \n240    8            150         163           87                 0   \n255   1G              1           1            0                 0   \n266   3A              3           6           33                66   \n280    F            262         265           95                 0   \n286   RB              1           1            0                 0   \n318   1M              1           1            0                 0   \n322   2A              7           7          100                 0   \n323   1C              1           1            0                 0   \n\n                                  Days since sightings  \n50   [880, 916, 880, 881, 1286, 881, 881, 880, 881,...  \n59   [654, 562, 611, 2067, 565, 544, 544, 544, 508,...  \n79   [1782, 1452, 2824, 2824, 2824, 4412, 4412, 211...  \n164  [18340, 4245, 4245, 22993, 22993, 17174, 14982...  \n180  [14113, 9733, 9733, 6568, 17174, 17174, 17174,...  \n216                 [1123, 1181, 1181, 1098, 492, 844]  \n235  [19365, 17904, 17904, 17904, 17904, 17904, 179...  \n237  [17904, 17904, 17904, 17904, 17904, 17904, 179...  \n238  [25549, 17904, 17904, 17904, 17904, 17904, 179...  \n240  [1305, 1802, 1669, 460, 1306, 1262, 75, 1626, ...  \n255                                             [4287]  \n266               [3418, 3418, 3418, 3418, 1221, 1221]  \n280  [611, 251, 251, 251, 251, 251, 251, 251, 251, ...  \n286                                             [1521]  \n318                                              [761]  \n322                [565, 565, 565, 565, 565, 235, 184]  \n323                                              [166]  ",
      "text/html": "<div>\n<style scoped>\n    .dataframe tbody tr th:only-of-type {\n        vertical-align: middle;\n    }\n\n    .dataframe tbody tr th {\n        vertical-align: top;\n    }\n\n    .dataframe thead th {\n        text-align: right;\n    }\n</style>\n<table border=\"1\" class=\"dataframe\">\n  <thead>\n    <tr style=\"text-align: right;\">\n      <th></th>\n      <th>Bed</th>\n      <th>Species Count</th>\n      <th>Item Count</th>\n      <th>Label Stats</th>\n      <th>Geo-record Stats</th>\n      <th>Days since sightings</th>\n    </tr>\n  </thead>\n  <tbody>\n    <tr>\n      <th>50</th>\n      <td>LFE</td>\n      <td>34</td>\n      <td>36</td>\n      <td>100</td>\n      <td>11</td>\n      <td>[880, 916, 880, 881, 1286, 881, 881, 880, 881,...</td>\n    </tr>\n    <tr>\n      <th>59</th>\n      <td>LAM</td>\n      <td>169</td>\n      <td>231</td>\n      <td>99</td>\n      <td>3</td>\n      <td>[654, 562, 611, 2067, 565, 544, 544, 544, 508,...</td>\n    </tr>\n    <tr>\n      <th>79</th>\n      <td>1J</td>\n      <td>53</td>\n      <td>99</td>\n      <td>61</td>\n      <td>7</td>\n      <td>[1782, 1452, 2824, 2824, 2824, 4412, 4412, 211...</td>\n    </tr>\n    <tr>\n      <th>164</th>\n      <td>5</td>\n      <td>10</td>\n      <td>11</td>\n      <td>27</td>\n      <td>0</td>\n      <td>[18340, 4245, 4245, 22993, 22993, 17174, 14982...</td>\n    </tr>\n    <tr>\n      <th>180</th>\n      <td>1D</td>\n      <td>22</td>\n      <td>22</td>\n      <td>0</td>\n      <td>4</td>\n      <td>[14113, 9733, 9733, 6568, 17174, 17174, 17174,...</td>\n    </tr>\n    <tr>\n      <th>216</th>\n      <td>1R</td>\n      <td>6</td>\n      <td>6</td>\n      <td>33</td>\n      <td>0</td>\n      <td>[1123, 1181, 1181, 1098, 492, 844]</td>\n    </tr>\n    <tr>\n      <th>235</th>\n      <td>5C</td>\n      <td>28</td>\n      <td>30</td>\n      <td>0</td>\n      <td>0</td>\n      <td>[19365, 17904, 17904, 17904, 17904, 17904, 179...</td>\n    </tr>\n    <tr>\n      <th>237</th>\n      <td>5B</td>\n      <td>17</td>\n      <td>17</td>\n      <td>0</td>\n      <td>0</td>\n      <td>[17904, 17904, 17904, 17904, 17904, 17904, 179...</td>\n    </tr>\n    <tr>\n      <th>238</th>\n      <td>5A</td>\n      <td>73</td>\n      <td>76</td>\n      <td>0</td>\n      <td>0</td>\n      <td>[25549, 17904, 17904, 17904, 17904, 17904, 179...</td>\n    </tr>\n    <tr>\n      <th>240</th>\n      <td>8</td>\n      <td>150</td>\n      <td>163</td>\n      <td>87</td>\n      <td>0</td>\n      <td>[1305, 1802, 1669, 460, 1306, 1262, 75, 1626, ...</td>\n    </tr>\n    <tr>\n      <th>255</th>\n      <td>1G</td>\n      <td>1</td>\n      <td>1</td>\n      <td>0</td>\n      <td>0</td>\n      <td>[4287]</td>\n    </tr>\n    <tr>\n      <th>266</th>\n      <td>3A</td>\n      <td>3</td>\n      <td>6</td>\n      <td>33</td>\n      <td>66</td>\n      <td>[3418, 3418, 3418, 3418, 1221, 1221]</td>\n    </tr>\n    <tr>\n      <th>280</th>\n      <td>F</td>\n      <td>262</td>\n      <td>265</td>\n      <td>95</td>\n      <td>0</td>\n      <td>[611, 251, 251, 251, 251, 251, 251, 251, 251, ...</td>\n    </tr>\n    <tr>\n      <th>286</th>\n      <td>RB</td>\n      <td>1</td>\n      <td>1</td>\n      <td>0</td>\n      <td>0</td>\n      <td>[1521]</td>\n    </tr>\n    <tr>\n      <th>318</th>\n      <td>1M</td>\n      <td>1</td>\n      <td>1</td>\n      <td>0</td>\n      <td>0</td>\n      <td>[761]</td>\n    </tr>\n    <tr>\n      <th>322</th>\n      <td>2A</td>\n      <td>7</td>\n      <td>7</td>\n      <td>100</td>\n      <td>0</td>\n      <td>[565, 565, 565, 565, 565, 235, 184]</td>\n    </tr>\n    <tr>\n      <th>323</th>\n      <td>1C</td>\n      <td>1</td>\n      <td>1</td>\n      <td>0</td>\n      <td>0</td>\n      <td>[166]</td>\n    </tr>\n  </tbody>\n</table>\n</div>"
     },
     "execution_count": 66,
     "metadata": {},
     "output_type": "execute_result"
    }
   ],
   "source": [
    "# number of rows in df\n",
    "length = len(df.index)\n",
    "\n",
    "# create uninitialized np array of booleans with length equal to number of df rows\n",
    "mask = np.empty(shape=length,dtype=bool)\n",
    "\n",
    "# turn into mask\n",
    "for i in range(length):\n",
    "    bed = df.iloc[i,0]\n",
    "    if len(bed) < 4:\n",
    "        np.put(mask,i,True)\n",
    "    else:\n",
    "        np.put(mask,i,False)\n",
    "\n",
    "df.loc[mask]"
   ],
   "metadata": {
    "collapsed": false
   }
  },
  {
   "cell_type": "markdown",
   "source": [
    "# Alpine garden code 1A is obsoleted by L"
   ],
   "metadata": {
    "collapsed": false
   }
  },
  {
   "cell_type": "code",
   "execution_count": 68,
   "outputs": [
    {
     "data": {
      "text/plain": "Empty DataFrame\nColumns: [Bed, Species Count, Item Count, Label Stats, Geo-record Stats, Days since sightings]\nIndex: []",
      "text/html": "<div>\n<style scoped>\n    .dataframe tbody tr th:only-of-type {\n        vertical-align: middle;\n    }\n\n    .dataframe tbody tr th {\n        vertical-align: top;\n    }\n\n    .dataframe thead th {\n        text-align: right;\n    }\n</style>\n<table border=\"1\" class=\"dataframe\">\n  <thead>\n    <tr style=\"text-align: right;\">\n      <th></th>\n      <th>Bed</th>\n      <th>Species Count</th>\n      <th>Item Count</th>\n      <th>Label Stats</th>\n      <th>Geo-record Stats</th>\n      <th>Days since sightings</th>\n    </tr>\n  </thead>\n  <tbody>\n  </tbody>\n</table>\n</div>"
     },
     "execution_count": 68,
     "metadata": {},
     "output_type": "execute_result"
    }
   ],
   "source": [
    "# number of rows in df\n",
    "length = len(df.index)\n",
    "\n",
    "# create uninitialized np array of booleans with length equal to number of df rows\n",
    "mask = np.empty(shape=length,dtype=bool)\n",
    "\n",
    "# turn into mask\n",
    "for i in range(length):\n",
    "    bed = df.iloc[i,0]\n",
    "    if bed.startswith('1A'):\n",
    "        np.put(mask,i,True)\n",
    "    else:\n",
    "        np.put(mask,i,False)\n",
    "\n",
    "df.loc[mask]"
   ],
   "metadata": {
    "collapsed": false
   }
  },
  {
   "cell_type": "code",
   "execution_count": 79,
   "outputs": [
    {
     "data": {
      "text/plain": "Empty DataFrame\nColumns: [Bed, Species Count, Item Count, Label Stats, Geo-record Stats, Days since sightings]\nIndex: []",
      "text/html": "<div>\n<style scoped>\n    .dataframe tbody tr th:only-of-type {\n        vertical-align: middle;\n    }\n\n    .dataframe tbody tr th {\n        vertical-align: top;\n    }\n\n    .dataframe thead th {\n        text-align: right;\n    }\n</style>\n<table border=\"1\" class=\"dataframe\">\n  <thead>\n    <tr style=\"text-align: right;\">\n      <th></th>\n      <th>Bed</th>\n      <th>Species Count</th>\n      <th>Item Count</th>\n      <th>Label Stats</th>\n      <th>Geo-record Stats</th>\n      <th>Days since sightings</th>\n    </tr>\n  </thead>\n  <tbody>\n  </tbody>\n</table>\n</div>"
     },
     "execution_count": 79,
     "metadata": {},
     "output_type": "execute_result"
    }
   ],
   "source": [
    "# number of rows in df\n",
    "length = len(df.index)\n",
    "\n",
    "# create uninitialized np array of booleans with length equal to number of df rows\n",
    "mask = np.empty(shape=length,dtype=bool)\n",
    "\n",
    "# turn into mask\n",
    "for i in range(length):\n",
    "    bed = df.iloc[i,0]\n",
    "    if bed.startswith('OF'):\n",
    "        np.put(mask,i,True)\n",
    "    else:\n",
    "        np.put(mask,i,False)\n",
    "\n",
    "df.loc[mask]"
   ],
   "metadata": {
    "collapsed": false
   }
  },
  {
   "cell_type": "markdown",
   "source": [
    "Empty beds:\n",
    "- 3X\n",
    "- 1T\n",
    "- 1Q\n",
    "- 1A (obsoleted by L)\n",
    "- LIH (intermountain habitat)\n",
    "- OF (component)"
   ],
   "metadata": {
    "collapsed": false
   }
  }
 ],
 "metadata": {
  "kernelspec": {
   "display_name": "Python 3",
   "language": "python",
   "name": "python3"
  },
  "language_info": {
   "codemirror_mode": {
    "name": "ipython",
    "version": 2
   },
   "file_extension": ".py",
   "mimetype": "text/x-python",
   "name": "python",
   "nbconvert_exporter": "python",
   "pygments_lexer": "ipython2",
   "version": "2.7.6"
  }
 },
 "nbformat": 4,
 "nbformat_minor": 0
}
