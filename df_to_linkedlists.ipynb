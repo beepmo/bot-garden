{
 "cells": [
  {
   "cell_type": "code",
   "execution_count": 5,
   "metadata": {
    "collapsed": true
   },
   "outputs": [],
   "source": [
    "import pandas as pd\n",
    "\n",
    "from request_csv import df"
   ]
  },
  {
   "cell_type": "code",
   "execution_count": 6,
   "outputs": [],
   "source": [
    "# list of bed\n",
    "beds = []\n",
    "\n",
    "# list of list of species, same order as list of bed\n",
    "species_in_bed = []"
   ],
   "metadata": {
    "collapsed": false
   }
  },
  {
   "cell_type": "code",
   "execution_count": 29,
   "outputs": [],
   "source": [
    "for index, row in df.iterrows():  # iterate over all rows of data\n",
    "    bed = row['Bed']\n",
    "    species = row['Taxon']\n",
    "\n",
    "    try:\n",
    "        # bed is in beds\n",
    "        bed_location = beds.index(bed)\n",
    "\n",
    "        in_this_bed = species_in_bed[bed_location]\n",
    "        if not species in in_this_bed:\n",
    "            in_this_bed.append(species)\n",
    "    except ValueError:\n",
    "        # bed is not in beds\n",
    "        # add bed to beds\n",
    "        beds.append(bed)\n",
    "        # add species as list\n",
    "        species_in_bed.append([species])"
   ],
   "metadata": {
    "collapsed": false
   }
  },
  {
   "cell_type": "code",
   "execution_count": 28,
   "outputs": [],
   "source": [
    "species_cnts  = []\n",
    "genus_cnts = []\n",
    "\n",
    "for bed_group in species_in_bed:\n",
    "    # count species incl. subspecies\n",
    "    species_cnt = len(bed_group)\n",
    "    species_cnts.append(species_cnt)\n",
    "\n",
    "    # count genus (first word before space)\n",
    "    unique = set()\n",
    "    for i in range(len(bed_group)):\n",
    "        genus = bed_group[i].partition(' ')[0]\n",
    "        unique.add(genus)\n",
    "\n",
    "    genus_cnt = len(unique)\n",
    "    genus_cnts.append(genus_cnt)"
   ],
   "metadata": {
    "collapsed": false
   }
  },
  {
   "cell_type": "code",
   "execution_count": 31,
   "outputs": [
    {
     "name": "stdout",
     "output_type": "stream",
     "text": [
      "    Bed  Species Count  Genus Count\n",
      "0  LAS5             85           50\n",
      "1  3AC7             58           41\n",
      "2  3AH4             27           17\n",
      "3  3AA4             48           29\n",
      "4  3AB2             37           26\n"
     ]
    }
   ],
   "source": [
    "dict_of_lists = {'Bed':beds,\n",
    "                 'Species Count':species_cnts,\n",
    "                 'Genus Count':genus_cnts\n",
    "                 }\n",
    "df = pd.DataFrame.from_dict(dict_of_lists)\n",
    "print(df.head())"
   ],
   "metadata": {
    "collapsed": false
   }
  },
  {
   "cell_type": "code",
   "execution_count": null,
   "outputs": [],
   "source": [],
   "metadata": {
    "collapsed": false
   }
  }
 ],
 "metadata": {
  "kernelspec": {
   "display_name": "Python 3",
   "language": "python",
   "name": "python3"
  },
  "language_info": {
   "codemirror_mode": {
    "name": "ipython",
    "version": 2
   },
   "file_extension": ".py",
   "mimetype": "text/x-python",
   "name": "python",
   "nbconvert_exporter": "python",
   "pygments_lexer": "ipython2",
   "version": "2.7.6"
  }
 },
 "nbformat": 4,
 "nbformat_minor": 0
}
